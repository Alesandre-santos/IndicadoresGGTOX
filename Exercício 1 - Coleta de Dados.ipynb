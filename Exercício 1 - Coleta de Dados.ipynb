{
 "cells": [
  {
   "cell_type": "markdown",
   "id": "8936a03f",
   "metadata": {},
   "source": [
    "## Exercício 1 - Coleta de Dados\n",
    "\n",
    "O exercício consiste em automatizar a extração dos arquivos disponibilizados no portal de dados abertos da Anvisa. Para isso, siga os seguintes passos:\n",
    "\n",
    "1. Definir a estrutura dos links \n",
    "2. Criar uma função para baixar automaticamente os dados do primeiro trimestre de 2020 e 2021 \n",
    "3. Armazenar os arquivos em csv\n",
    "\n",
    "Dica: Para facilitar a construção do seu código, crie uma lista com todos os links de download já estruturados, em seguida, construa um segunda estrutura de repetição para baixar esses dados. "
   ]
  },
  {
   "cell_type": "code",
   "execution_count": 1,
   "id": "31afafc6",
   "metadata": {},
   "outputs": [],
   "source": [
    "import pandas as pd\n",
    "import requests"
   ]
  },
  {
   "cell_type": "code",
   "execution_count": 2,
   "id": "d694a8c4",
   "metadata": {},
   "outputs": [],
   "source": [
    "# Utilizar um link com a estrutura identificada\n",
    "url = 'https://dados.anvisa.gov.br/dados/SNGPC/Manipulados/EDA_Manipulados_201402.csv'"
   ]
  },
  {
   "cell_type": "code",
   "execution_count": null,
   "id": "39af897e",
   "metadata": {},
   "outputs": [],
   "source": []
  },
  {
   "cell_type": "code",
   "execution_count": 3,
   "id": "8b40ee2b",
   "metadata": {},
   "outputs": [
    {
     "name": "stderr",
     "output_type": "stream",
     "text": [
      "C:\\Users\\PC-000\\anaconda3\\lib\\site-packages\\urllib3\\connectionpool.py:1045: InsecureRequestWarning: Unverified HTTPS request is being made to host 'dados.anvisa.gov.br'. Adding certificate verification is strongly advised. See: https://urllib3.readthedocs.io/en/1.26.x/advanced-usage.html#ssl-warnings\n",
      "  warnings.warn(\n"
     ]
    },
    {
     "data": {
      "text/plain": [
       "200"
      ]
     },
     "execution_count": 3,
     "metadata": {},
     "output_type": "execute_result"
    }
   ],
   "source": [
    "#Fazer a requisição do arquivo\n",
    "resposta = requests.get(url,verify=False)\n",
    "resposta.status_code"
   ]
  },
  {
   "cell_type": "code",
   "execution_count": 4,
   "id": "267d6d2c",
   "metadata": {},
   "outputs": [
    {
     "name": "stdout",
     "output_type": "stream",
     "text": [
      "Download concluído com sucesso!\n"
     ]
    }
   ],
   "source": [
    "#Salvar o arquivo em um csv\n",
    "if resposta.status_code == 200:\n",
    "    with open(\"EDA_Manipulados_201402.csv\", \"wb\") as file:\n",
    "        file.write(resposta.content)\n",
    "    print(\"Download concluído com sucesso!\")\n",
    "else:\n",
    "    print(f\"Falha ao baixar o arquivo.\")"
   ]
  },
  {
   "cell_type": "code",
   "execution_count": 5,
   "id": "7d69915d",
   "metadata": {
    "collapsed": true
   },
   "outputs": [
    {
     "data": {
      "text/html": [
       "<div>\n",
       "<style scoped>\n",
       "    .dataframe tbody tr th:only-of-type {\n",
       "        vertical-align: middle;\n",
       "    }\n",
       "\n",
       "    .dataframe tbody tr th {\n",
       "        vertical-align: top;\n",
       "    }\n",
       "\n",
       "    .dataframe thead th {\n",
       "        text-align: right;\n",
       "    }\n",
       "</style>\n",
       "<table border=\"1\" class=\"dataframe\">\n",
       "  <thead>\n",
       "    <tr style=\"text-align: right;\">\n",
       "      <th></th>\n",
       "      <th>ANO_VENDA</th>\n",
       "      <th>MES_VENDA</th>\n",
       "      <th>UF_VENDA</th>\n",
       "      <th>MUNICIPIO_VENDA</th>\n",
       "      <th>DCB</th>\n",
       "      <th>PRINCIPIO_ATIVO</th>\n",
       "      <th>QTD_ATIVO_POR_UNID_FARMACOTEC</th>\n",
       "      <th>UNIDADE_MEDIDA_PRINCIPIO_ATIVO</th>\n",
       "      <th>QTD_UNIDADE_FARMACOTECNICA</th>\n",
       "      <th>TIPO_UNIDADE_FARMACOTECNICA</th>\n",
       "      <th>CONSELHO_PRESCRITOR</th>\n",
       "      <th>UF_CONSELHO_PRESCRITOR</th>\n",
       "      <th>TIPO_RECEITUARIO</th>\n",
       "      <th>CID10</th>\n",
       "      <th>SEXO</th>\n",
       "      <th>IDADE</th>\n",
       "      <th>UNIDADE_IDADE</th>\n",
       "    </tr>\n",
       "  </thead>\n",
       "  <tbody>\n",
       "    <tr>\n",
       "      <th>0</th>\n",
       "      <td>2014</td>\n",
       "      <td>2</td>\n",
       "      <td>AC</td>\n",
       "      <td>CRUZEIRO DO SUL</td>\n",
       "      <td>712</td>\n",
       "      <td>CLORIDRATO DE AMITRIPTILINA</td>\n",
       "      <td>0,0125</td>\n",
       "      <td>GRAMA</td>\n",
       "      <td>810</td>\n",
       "      <td>CÁPSULA</td>\n",
       "      <td>CRM</td>\n",
       "      <td>AC</td>\n",
       "      <td>1</td>\n",
       "      <td>NaN</td>\n",
       "      <td>NaN</td>\n",
       "      <td>NaN</td>\n",
       "      <td>NaN</td>\n",
       "    </tr>\n",
       "    <tr>\n",
       "      <th>1</th>\n",
       "      <td>2014</td>\n",
       "      <td>2</td>\n",
       "      <td>AC</td>\n",
       "      <td>CRUZEIRO DO SUL</td>\n",
       "      <td>712</td>\n",
       "      <td>CLORIDRATO DE AMITRIPTILINA</td>\n",
       "      <td>0,025</td>\n",
       "      <td>GRAMA</td>\n",
       "      <td>3510</td>\n",
       "      <td>CÁPSULA</td>\n",
       "      <td>CRM</td>\n",
       "      <td>AC</td>\n",
       "      <td>1</td>\n",
       "      <td>NaN</td>\n",
       "      <td>NaN</td>\n",
       "      <td>NaN</td>\n",
       "      <td>NaN</td>\n",
       "    </tr>\n",
       "    <tr>\n",
       "      <th>2</th>\n",
       "      <td>2014</td>\n",
       "      <td>2</td>\n",
       "      <td>AC</td>\n",
       "      <td>CRUZEIRO DO SUL</td>\n",
       "      <td>1558</td>\n",
       "      <td>CLORIDRATO DE BUPROPIONA</td>\n",
       "      <td>0,15</td>\n",
       "      <td>GRAMA</td>\n",
       "      <td>4239</td>\n",
       "      <td>CÁPSULA</td>\n",
       "      <td>CRM</td>\n",
       "      <td>AC</td>\n",
       "      <td>1</td>\n",
       "      <td>NaN</td>\n",
       "      <td>NaN</td>\n",
       "      <td>NaN</td>\n",
       "      <td>NaN</td>\n",
       "    </tr>\n",
       "    <tr>\n",
       "      <th>3</th>\n",
       "      <td>2014</td>\n",
       "      <td>2</td>\n",
       "      <td>AC</td>\n",
       "      <td>CRUZEIRO DO SUL</td>\n",
       "      <td>1558</td>\n",
       "      <td>CLORIDRATO DE BUPROPIONA</td>\n",
       "      <td>0,3</td>\n",
       "      <td>GRAMA</td>\n",
       "      <td>1080</td>\n",
       "      <td>CÁPSULA</td>\n",
       "      <td>CRM</td>\n",
       "      <td>AC</td>\n",
       "      <td>1</td>\n",
       "      <td>NaN</td>\n",
       "      <td>NaN</td>\n",
       "      <td>NaN</td>\n",
       "      <td>NaN</td>\n",
       "    </tr>\n",
       "    <tr>\n",
       "      <th>4</th>\n",
       "      <td>2014</td>\n",
       "      <td>2</td>\n",
       "      <td>AC</td>\n",
       "      <td>CRUZEIRO DO SUL</td>\n",
       "      <td>2161</td>\n",
       "      <td>CITALOPRAM</td>\n",
       "      <td>0,02</td>\n",
       "      <td>GRAMA</td>\n",
       "      <td>540</td>\n",
       "      <td>CÁPSULA</td>\n",
       "      <td>CRM</td>\n",
       "      <td>AC</td>\n",
       "      <td>1</td>\n",
       "      <td>NaN</td>\n",
       "      <td>NaN</td>\n",
       "      <td>NaN</td>\n",
       "      <td>NaN</td>\n",
       "    </tr>\n",
       "  </tbody>\n",
       "</table>\n",
       "</div>"
      ],
      "text/plain": [
       "   ANO_VENDA  MES_VENDA UF_VENDA  MUNICIPIO_VENDA   DCB  \\\n",
       "0       2014          2       AC  CRUZEIRO DO SUL   712   \n",
       "1       2014          2       AC  CRUZEIRO DO SUL   712   \n",
       "2       2014          2       AC  CRUZEIRO DO SUL  1558   \n",
       "3       2014          2       AC  CRUZEIRO DO SUL  1558   \n",
       "4       2014          2       AC  CRUZEIRO DO SUL  2161   \n",
       "\n",
       "               PRINCIPIO_ATIVO QTD_ATIVO_POR_UNID_FARMACOTEC  \\\n",
       "0  CLORIDRATO DE AMITRIPTILINA                        0,0125   \n",
       "1  CLORIDRATO DE AMITRIPTILINA                         0,025   \n",
       "2     CLORIDRATO DE BUPROPIONA                          0,15   \n",
       "3     CLORIDRATO DE BUPROPIONA                           0,3   \n",
       "4                   CITALOPRAM                          0,02   \n",
       "\n",
       "  UNIDADE_MEDIDA_PRINCIPIO_ATIVO QTD_UNIDADE_FARMACOTECNICA  \\\n",
       "0                          GRAMA                        810   \n",
       "1                          GRAMA                       3510   \n",
       "2                          GRAMA                       4239   \n",
       "3                          GRAMA                       1080   \n",
       "4                          GRAMA                        540   \n",
       "\n",
       "  TIPO_UNIDADE_FARMACOTECNICA CONSELHO_PRESCRITOR UF_CONSELHO_PRESCRITOR  \\\n",
       "0                     CÁPSULA                 CRM                     AC   \n",
       "1                     CÁPSULA                 CRM                     AC   \n",
       "2                     CÁPSULA                 CRM                     AC   \n",
       "3                     CÁPSULA                 CRM                     AC   \n",
       "4                     CÁPSULA                 CRM                     AC   \n",
       "\n",
       "   TIPO_RECEITUARIO CID10  SEXO  IDADE  UNIDADE_IDADE  \n",
       "0                 1   NaN   NaN    NaN            NaN  \n",
       "1                 1   NaN   NaN    NaN            NaN  \n",
       "2                 1   NaN   NaN    NaN            NaN  \n",
       "3                 1   NaN   NaN    NaN            NaN  \n",
       "4                 1   NaN   NaN    NaN            NaN  "
      ]
     },
     "execution_count": 5,
     "metadata": {},
     "output_type": "execute_result"
    }
   ],
   "source": [
    "dados = pd.read_csv('EDA_Manipulados_201402.csv', sep=';', encoding='Latin-1', low_memory=False)\n",
    "dados.head()"
   ]
  },
  {
   "cell_type": "code",
   "execution_count": 19,
   "id": "2fb9a5e6",
   "metadata": {},
   "outputs": [],
   "source": [
    "urls = ['https://dados.anvisa.gov.br/dados/SNGPC/Manipulados/EDA_Manipulados_202001.csv',\n",
    "        'https://dados.anvisa.gov.br/dados/SNGPC/Manipulados/EDA_Manipulados_202002.csv',\n",
    "        'https://dados.anvisa.gov.br/dados/SNGPC/Manipulados/EDA_Manipulados_202003.csv',\n",
    "        'https://dados.anvisa.gov.br/dados/SNGPC/Manipulados/EDA_Manipulados_202101.csv',\n",
    "        'https://dados.anvisa.gov.br/dados/SNGPC/Manipulados/EDA_Manipulados_202102.csv',\n",
    "        'https://dados.anvisa.gov.br/dados/SNGPC/Manipulados/EDA_Manipulados_202103.csv']\n"
   ]
  },
  {
   "cell_type": "code",
   "execution_count": 20,
   "id": "14d90afb",
   "metadata": {
    "collapsed": true
   },
   "outputs": [
    {
     "data": {
      "text/html": [
       "<div>\n",
       "<style scoped>\n",
       "    .dataframe tbody tr th:only-of-type {\n",
       "        vertical-align: middle;\n",
       "    }\n",
       "\n",
       "    .dataframe tbody tr th {\n",
       "        vertical-align: top;\n",
       "    }\n",
       "\n",
       "    .dataframe thead th {\n",
       "        text-align: right;\n",
       "    }\n",
       "</style>\n",
       "<table border=\"1\" class=\"dataframe\">\n",
       "  <thead>\n",
       "    <tr style=\"text-align: right;\">\n",
       "      <th></th>\n",
       "      <th>ANO_VENDA</th>\n",
       "      <th>MES_VENDA</th>\n",
       "      <th>Contagem</th>\n",
       "    </tr>\n",
       "  </thead>\n",
       "  <tbody>\n",
       "    <tr>\n",
       "      <th>0</th>\n",
       "      <td>2020</td>\n",
       "      <td>1</td>\n",
       "      <td>338399</td>\n",
       "    </tr>\n",
       "    <tr>\n",
       "      <th>1</th>\n",
       "      <td>2020</td>\n",
       "      <td>2</td>\n",
       "      <td>320499</td>\n",
       "    </tr>\n",
       "    <tr>\n",
       "      <th>2</th>\n",
       "      <td>2020</td>\n",
       "      <td>3</td>\n",
       "      <td>334304</td>\n",
       "    </tr>\n",
       "    <tr>\n",
       "      <th>3</th>\n",
       "      <td>2021</td>\n",
       "      <td>1</td>\n",
       "      <td>350538</td>\n",
       "    </tr>\n",
       "    <tr>\n",
       "      <th>4</th>\n",
       "      <td>2021</td>\n",
       "      <td>2</td>\n",
       "      <td>351764</td>\n",
       "    </tr>\n",
       "    <tr>\n",
       "      <th>5</th>\n",
       "      <td>2021</td>\n",
       "      <td>3</td>\n",
       "      <td>388846</td>\n",
       "    </tr>\n",
       "  </tbody>\n",
       "</table>\n",
       "</div>"
      ],
      "text/plain": [
       "   ANO_VENDA  MES_VENDA  Contagem\n",
       "0       2020          1    338399\n",
       "1       2020          2    320499\n",
       "2       2020          3    334304\n",
       "3       2021          1    350538\n",
       "4       2021          2    351764\n",
       "5       2021          3    388846"
      ]
     },
     "execution_count": 20,
     "metadata": {},
     "output_type": "execute_result"
    }
   ],
   "source": [
    "# Criar uma lista para armazenar os DataFrames de cada arquivo\n",
    "dataframes = []\n",
    "\n",
    "# Iterar sobre as URLs\n",
    "for url in urls:\n",
    "    response = requests.get(url)\n",
    "    if response.status_code == 200:\n",
    "        # Ler o conteúdo do arquivo usando o pandas\n",
    "        df = pd.read_csv(url, sep=';', encoding='Latin-1', low_memory=False)\n",
    "        # Adicionar o DataFrame à lista\n",
    "        dataframes.append(df)\n",
    "    else:\n",
    "        print(f'Falha ao acessar a URL {url}')\n",
    "\n",
    "# Concatenar os DataFrames em um único DataFrame final\n",
    "df_final = pd.concat(dataframes)\n",
    "\n",
    "# Imprimir o DataFrame final\n",
    "#df_final.head()\n",
    "\n",
    "df_agrupado = df_final.groupby(['ANO_VENDA','MES_VENDA']).size().reset_index(name='Contagem')\n",
    "df_agrupado\n",
    "\n"
   ]
  },
  {
   "cell_type": "code",
   "execution_count": 21,
   "id": "74356001",
   "metadata": {},
   "outputs": [
    {
     "name": "stdout",
     "output_type": "stream",
     "text": [
      "Arquivo baixado com sucesso.\n",
      "Arquivo baixado com sucesso.\n",
      "Arquivo baixado com sucesso.\n",
      "Arquivo baixado com sucesso.\n",
      "Arquivo baixado com sucesso.\n",
      "Arquivo baixado com sucesso.\n"
     ]
    }
   ],
   "source": [
    "def download_csv_file(url, arquivo):\n",
    "    response = requests.get(url)\n",
    "    if response.status_code == 200:\n",
    "        with open(arquivo, 'wb') as file:\n",
    "            file.write(response.content)\n",
    "        print(\"Arquivo baixado com sucesso.\")\n",
    "    else:\n",
    "        print(\"Falha ao baixar o arquivo.\")\n",
    "\n",
    "# Definindo o ano e trimestre desejados\n",
    "anos = [2020, 2021]\n",
    "trimestres = ['01', '02', '03']\n",
    "\n",
    "# Gerando as URLs e baixando os arquivos\n",
    "for ano in anos:\n",
    "    for trimestre in trimestres:\n",
    "        url = f\"https://dados.anvisa.gov.br/dados/SNGPC/Manipulados/EDA_Manipulados_{ano}{trimestre}.csv\"\n",
    "        nome_arquivo = f\"EDA_Manipulados_{ano}{trimestre}.csv\"\n",
    "        download_csv_file(url, nome_arquivo)"
   ]
  },
  {
   "cell_type": "code",
   "execution_count": null,
   "id": "d4530bcd",
   "metadata": {},
   "outputs": [],
   "source": []
  }
 ],
 "metadata": {
  "kernelspec": {
   "display_name": "Python 3 (ipykernel)",
   "language": "python",
   "name": "python3"
  },
  "language_info": {
   "codemirror_mode": {
    "name": "ipython",
    "version": 3
   },
   "file_extension": ".py",
   "mimetype": "text/x-python",
   "name": "python",
   "nbconvert_exporter": "python",
   "pygments_lexer": "ipython3",
   "version": "3.10.9"
  }
 },
 "nbformat": 4,
 "nbformat_minor": 5
}
