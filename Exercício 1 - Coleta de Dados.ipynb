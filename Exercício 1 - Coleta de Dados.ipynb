{
 "cells": [
  {
   "cell_type": "markdown",
   "id": "8936a03f",
   "metadata": {},
   "source": [
    "## Exercício 1 - Coleta de Dados\n",
    "\n",
    "O exercício consiste em automatizar a extração dos arquivos disponibilizados no portal de dados abertos da Anvisa. Para isso, siga os seguintes passos:\n",
    "\n",
    "1. Definir a estrutura dos links \n",
    "2. Criar uma função para baixar automaticamente os dados do primeiro trimestre de 2020 e 2021 \n",
    "3. Armazenar os arquivos em csv\n",
    "\n",
    "Dica: Para facilitar a construção do seu código, crie uma lista com todos os links de download já estruturados, em seguida, construa um segunda estrutura de repetição para baixar esses dados. "
   ]
  },
  {
   "cell_type": "code",
   "execution_count": 1,
   "id": "05b87bf8",
   "metadata": {},
   "outputs": [],
   "source": [
    "import pandas as pd\n",
    "import requests"
   ]
  },
  {
   "cell_type": "code",
   "execution_count": 2,
   "id": "a5bff602",
   "metadata": {},
   "outputs": [],
   "source": [
    "# Utilizar um link com a estrutura identificada\n",
    "url = 'https://dados.anvisa.gov.br/dados/SNGPC/Manipulados/EDA_Manipulados_201402.csv'"
   ]
  },
  {
   "cell_type": "code",
   "execution_count": null,
   "id": "bea6a6f2",
   "metadata": {},
   "outputs": [],
   "source": []
  },
  {
   "cell_type": "code",
   "execution_count": 3,
   "id": "137877ce",
   "metadata": {},
   "outputs": [
    {
     "name": "stderr",
     "output_type": "stream",
     "text": [
      "C:\\Users\\PC-000\\anaconda3\\lib\\site-packages\\urllib3\\connectionpool.py:1045: InsecureRequestWarning: Unverified HTTPS request is being made to host 'dados.anvisa.gov.br'. Adding certificate verification is strongly advised. See: https://urllib3.readthedocs.io/en/1.26.x/advanced-usage.html#ssl-warnings\n",
      "  warnings.warn(\n"
     ]
    },
    {
     "data": {
      "text/plain": [
       "200"
      ]
     },
     "execution_count": 3,
     "metadata": {},
     "output_type": "execute_result"
    }
   ],
   "source": [
    "#Fazer a requisição do arquivo\n",
    "resposta = requests.get(url,verify=False)\n",
    "resposta.status_code"
   ]
  },
  {
   "cell_type": "code",
   "execution_count": 4,
   "id": "3ae193b8",
   "metadata": {},
   "outputs": [
    {
     "name": "stdout",
     "output_type": "stream",
     "text": [
      "Download concluído com sucesso!\n"
     ]
    }
   ],
   "source": [
    "#Salvar o arquivo em um csv\n",
    "if resposta.status_code == 200:\n",
    "    with open(\"EDA_Manipulados_201402.csv\", \"wb\") as file:\n",
    "        file.write(resposta.content)\n",
    "    print(\"Download concluído com sucesso!\")\n",
    "else:\n",
    "    print(f\"Falha ao baixar o arquivo.\")"
   ]
  },
  {
   "cell_type": "code",
   "execution_count": 5,
   "id": "fa386e8e",
   "metadata": {
    "collapsed": true
   },
   "outputs": [
    {
     "data": {
      "text/html": [
       "<div>\n",
       "<style scoped>\n",
       "    .dataframe tbody tr th:only-of-type {\n",
       "        vertical-align: middle;\n",
       "    }\n",
       "\n",
       "    .dataframe tbody tr th {\n",
       "        vertical-align: top;\n",
       "    }\n",
       "\n",
       "    .dataframe thead th {\n",
       "        text-align: right;\n",
       "    }\n",
       "</style>\n",
       "<table border=\"1\" class=\"dataframe\">\n",
       "  <thead>\n",
       "    <tr style=\"text-align: right;\">\n",
       "      <th></th>\n",
       "      <th>ANO_VENDA</th>\n",
       "      <th>MES_VENDA</th>\n",
       "      <th>UF_VENDA</th>\n",
       "      <th>MUNICIPIO_VENDA</th>\n",
       "      <th>DCB</th>\n",
       "      <th>PRINCIPIO_ATIVO</th>\n",
       "      <th>QTD_ATIVO_POR_UNID_FARMACOTEC</th>\n",
       "      <th>UNIDADE_MEDIDA_PRINCIPIO_ATIVO</th>\n",
       "      <th>QTD_UNIDADE_FARMACOTECNICA</th>\n",
       "      <th>TIPO_UNIDADE_FARMACOTECNICA</th>\n",
       "      <th>CONSELHO_PRESCRITOR</th>\n",
       "      <th>UF_CONSELHO_PRESCRITOR</th>\n",
       "      <th>TIPO_RECEITUARIO</th>\n",
       "      <th>CID10</th>\n",
       "      <th>SEXO</th>\n",
       "      <th>IDADE</th>\n",
       "      <th>UNIDADE_IDADE</th>\n",
       "    </tr>\n",
       "  </thead>\n",
       "  <tbody>\n",
       "    <tr>\n",
       "      <th>0</th>\n",
       "      <td>2014</td>\n",
       "      <td>2</td>\n",
       "      <td>AC</td>\n",
       "      <td>CRUZEIRO DO SUL</td>\n",
       "      <td>712</td>\n",
       "      <td>CLORIDRATO DE AMITRIPTILINA</td>\n",
       "      <td>0,0125</td>\n",
       "      <td>GRAMA</td>\n",
       "      <td>810</td>\n",
       "      <td>CÁPSULA</td>\n",
       "      <td>CRM</td>\n",
       "      <td>AC</td>\n",
       "      <td>1</td>\n",
       "      <td>NaN</td>\n",
       "      <td>NaN</td>\n",
       "      <td>NaN</td>\n",
       "      <td>NaN</td>\n",
       "    </tr>\n",
       "    <tr>\n",
       "      <th>1</th>\n",
       "      <td>2014</td>\n",
       "      <td>2</td>\n",
       "      <td>AC</td>\n",
       "      <td>CRUZEIRO DO SUL</td>\n",
       "      <td>712</td>\n",
       "      <td>CLORIDRATO DE AMITRIPTILINA</td>\n",
       "      <td>0,025</td>\n",
       "      <td>GRAMA</td>\n",
       "      <td>3510</td>\n",
       "      <td>CÁPSULA</td>\n",
       "      <td>CRM</td>\n",
       "      <td>AC</td>\n",
       "      <td>1</td>\n",
       "      <td>NaN</td>\n",
       "      <td>NaN</td>\n",
       "      <td>NaN</td>\n",
       "      <td>NaN</td>\n",
       "    </tr>\n",
       "    <tr>\n",
       "      <th>2</th>\n",
       "      <td>2014</td>\n",
       "      <td>2</td>\n",
       "      <td>AC</td>\n",
       "      <td>CRUZEIRO DO SUL</td>\n",
       "      <td>1558</td>\n",
       "      <td>CLORIDRATO DE BUPROPIONA</td>\n",
       "      <td>0,15</td>\n",
       "      <td>GRAMA</td>\n",
       "      <td>4239</td>\n",
       "      <td>CÁPSULA</td>\n",
       "      <td>CRM</td>\n",
       "      <td>AC</td>\n",
       "      <td>1</td>\n",
       "      <td>NaN</td>\n",
       "      <td>NaN</td>\n",
       "      <td>NaN</td>\n",
       "      <td>NaN</td>\n",
       "    </tr>\n",
       "    <tr>\n",
       "      <th>3</th>\n",
       "      <td>2014</td>\n",
       "      <td>2</td>\n",
       "      <td>AC</td>\n",
       "      <td>CRUZEIRO DO SUL</td>\n",
       "      <td>1558</td>\n",
       "      <td>CLORIDRATO DE BUPROPIONA</td>\n",
       "      <td>0,3</td>\n",
       "      <td>GRAMA</td>\n",
       "      <td>1080</td>\n",
       "      <td>CÁPSULA</td>\n",
       "      <td>CRM</td>\n",
       "      <td>AC</td>\n",
       "      <td>1</td>\n",
       "      <td>NaN</td>\n",
       "      <td>NaN</td>\n",
       "      <td>NaN</td>\n",
       "      <td>NaN</td>\n",
       "    </tr>\n",
       "    <tr>\n",
       "      <th>4</th>\n",
       "      <td>2014</td>\n",
       "      <td>2</td>\n",
       "      <td>AC</td>\n",
       "      <td>CRUZEIRO DO SUL</td>\n",
       "      <td>2161</td>\n",
       "      <td>CITALOPRAM</td>\n",
       "      <td>0,02</td>\n",
       "      <td>GRAMA</td>\n",
       "      <td>540</td>\n",
       "      <td>CÁPSULA</td>\n",
       "      <td>CRM</td>\n",
       "      <td>AC</td>\n",
       "      <td>1</td>\n",
       "      <td>NaN</td>\n",
       "      <td>NaN</td>\n",
       "      <td>NaN</td>\n",
       "      <td>NaN</td>\n",
       "    </tr>\n",
       "  </tbody>\n",
       "</table>\n",
       "</div>"
      ],
      "text/plain": [
       "   ANO_VENDA  MES_VENDA UF_VENDA  MUNICIPIO_VENDA   DCB  \\\n",
       "0       2014          2       AC  CRUZEIRO DO SUL   712   \n",
       "1       2014          2       AC  CRUZEIRO DO SUL   712   \n",
       "2       2014          2       AC  CRUZEIRO DO SUL  1558   \n",
       "3       2014          2       AC  CRUZEIRO DO SUL  1558   \n",
       "4       2014          2       AC  CRUZEIRO DO SUL  2161   \n",
       "\n",
       "               PRINCIPIO_ATIVO QTD_ATIVO_POR_UNID_FARMACOTEC  \\\n",
       "0  CLORIDRATO DE AMITRIPTILINA                        0,0125   \n",
       "1  CLORIDRATO DE AMITRIPTILINA                         0,025   \n",
       "2     CLORIDRATO DE BUPROPIONA                          0,15   \n",
       "3     CLORIDRATO DE BUPROPIONA                           0,3   \n",
       "4                   CITALOPRAM                          0,02   \n",
       "\n",
       "  UNIDADE_MEDIDA_PRINCIPIO_ATIVO QTD_UNIDADE_FARMACOTECNICA  \\\n",
       "0                          GRAMA                        810   \n",
       "1                          GRAMA                       3510   \n",
       "2                          GRAMA                       4239   \n",
       "3                          GRAMA                       1080   \n",
       "4                          GRAMA                        540   \n",
       "\n",
       "  TIPO_UNIDADE_FARMACOTECNICA CONSELHO_PRESCRITOR UF_CONSELHO_PRESCRITOR  \\\n",
       "0                     CÁPSULA                 CRM                     AC   \n",
       "1                     CÁPSULA                 CRM                     AC   \n",
       "2                     CÁPSULA                 CRM                     AC   \n",
       "3                     CÁPSULA                 CRM                     AC   \n",
       "4                     CÁPSULA                 CRM                     AC   \n",
       "\n",
       "   TIPO_RECEITUARIO CID10  SEXO  IDADE  UNIDADE_IDADE  \n",
       "0                 1   NaN   NaN    NaN            NaN  \n",
       "1                 1   NaN   NaN    NaN            NaN  \n",
       "2                 1   NaN   NaN    NaN            NaN  \n",
       "3                 1   NaN   NaN    NaN            NaN  \n",
       "4                 1   NaN   NaN    NaN            NaN  "
      ]
     },
     "execution_count": 5,
     "metadata": {},
     "output_type": "execute_result"
    }
   ],
   "source": [
    "dados = pd.read_csv('EDA_Manipulados_201402.csv', sep=';', encoding='Latin-1', low_memory=False)\n",
    "dados.head()"
   ]
  },
  {
   "cell_type": "code",
   "execution_count": 17,
   "id": "68867fdd",
   "metadata": {},
   "outputs": [],
   "source": [
    "urls = ['https://dados.anvisa.gov.br/dados/SNGPC/Manipulados/EDA_Manipulados_209902.csv',\n",
    "        'https://dados.anvisa.gov.br/dados/SNGPC/Manipulados/EDA_Manipulados_201401.csv',\n",
    "        'https://dados.anvisa.gov.br/dados/SNGPC/Manipulados/EDA_Manipulados_209901.csv']\n"
   ]
  },
  {
   "cell_type": "code",
   "execution_count": 18,
   "id": "ebe24f83",
   "metadata": {},
   "outputs": [
    {
     "name": "stdout",
     "output_type": "stream",
     "text": [
      "Falha ao acessar a URL https://dados.anvisa.gov.br/dados/SNGPC/Manipulados/EDA_Manipulados_209902.csv\n",
      "Falha ao acessar a URL https://dados.anvisa.gov.br/dados/SNGPC/Manipulados/EDA_Manipulados_209901.csv\n"
     ]
    },
    {
     "data": {
      "text/html": [
       "<div>\n",
       "<style scoped>\n",
       "    .dataframe tbody tr th:only-of-type {\n",
       "        vertical-align: middle;\n",
       "    }\n",
       "\n",
       "    .dataframe tbody tr th {\n",
       "        vertical-align: top;\n",
       "    }\n",
       "\n",
       "    .dataframe thead th {\n",
       "        text-align: right;\n",
       "    }\n",
       "</style>\n",
       "<table border=\"1\" class=\"dataframe\">\n",
       "  <thead>\n",
       "    <tr style=\"text-align: right;\">\n",
       "      <th></th>\n",
       "      <th>ANO_VENDA</th>\n",
       "      <th>MES_VENDA</th>\n",
       "      <th>Contagem</th>\n",
       "    </tr>\n",
       "  </thead>\n",
       "  <tbody>\n",
       "    <tr>\n",
       "      <th>0</th>\n",
       "      <td>2014</td>\n",
       "      <td>1</td>\n",
       "      <td>272873</td>\n",
       "    </tr>\n",
       "  </tbody>\n",
       "</table>\n",
       "</div>"
      ],
      "text/plain": [
       "   ANO_VENDA  MES_VENDA  Contagem\n",
       "0       2014          1    272873"
      ]
     },
     "execution_count": 18,
     "metadata": {},
     "output_type": "execute_result"
    }
   ],
   "source": [
    "# Criar uma lista para armazenar os DataFrames de cada arquivo\n",
    "dataframes = []\n",
    "\n",
    "# Iterar sobre as URLs\n",
    "for url in urls:\n",
    "    response = requests.get(url)\n",
    "    if response.status_code == 200:\n",
    "        # Ler o conteúdo do arquivo usando o pandas\n",
    "        df = pd.read_csv(url, sep=';', encoding='Latin-1', low_memory=False)\n",
    "        # Adicionar o DataFrame à lista\n",
    "        dataframes.append(df)\n",
    "    else:\n",
    "        print(f'Falha ao acessar a URL {url}')\n",
    "\n",
    "# Concatenar os DataFrames em um único DataFrame final\n",
    "df_final = pd.concat(dataframes)\n",
    "\n",
    "# Imprimir o DataFrame final\n",
    "#df_final.head()\n",
    "\n",
    "df_agrupado = df_final.groupby(['ANO_VENDA','MES_VENDA']).size().reset_index(name='Contagem')\n",
    "df_agrupado\n",
    "\n"
   ]
  },
  {
   "cell_type": "code",
   "execution_count": null,
   "id": "6d5d4484",
   "metadata": {},
   "outputs": [],
   "source": [
    "import pandas as pd\n",
    "\n",
    "# Crie um DataFrame de exemplo\n",
    "df = pd.DataFrame({'Coluna1': ['A', 'A', 'B', 'B', 'B', 'C']})\n",
    "\n",
    "# Agrupe o DataFrame por 'Coluna1' e conte o número de linhas em cada grupo\n",
    "df_agrupado = df.groupby('Coluna1').size().reset_index(name='Contagem')\n",
    "\n",
    "# Imprima o DataFrame agrupado\n",
    "print(df_agrupado)\n"
   ]
  },
  {
   "cell_type": "code",
   "execution_count": null,
   "id": "d0d9ae94",
   "metadata": {},
   "outputs": [],
   "source": [
    "import requests\n",
    "\n",
    "# URL base\n",
    "url_base = 'https://website.com/api/data?param1=value1&param2=value2&param3={}'\n",
    "url_base = 'https://dados.anvisa.gov.br/dados/SNGPC/Manipulados/EDA_Manipulados_201401.csv'\n",
    "\n",
    "https://dados.anvisa.gov.br/dados/SNGPC/Manipulados/EDA_Manipulados_201401.csv\n",
    "\n",
    "# Lista de valores para o último parâmetro\n",
    "valores_param3 = ['valor1', 'valor2', 'valor3']\n",
    "\n",
    "for valor in valores_param3:\n",
    "    # Formatar a URL com o valor atual do último parâmetro\n",
    "    url = url_base.format(valor)\n",
    "    \n",
    "    # Fazer a requisição GET\n",
    "    response = requests.get(url)\n",
    "    \n",
    "    # Verificar se a requisição foi bem-sucedida\n",
    "    if response.status_code == 200:\n",
    "        # Processar a resposta da requisição aqui\n",
    "        print(f'Requisição para {url} foi bem-sucedida.')\n",
    "    else:\n",
    "        print(f'Falha ao acessar a URL {url}')\n"
   ]
  }
 ],
 "metadata": {
  "kernelspec": {
   "display_name": "Python 3 (ipykernel)",
   "language": "python",
   "name": "python3"
  },
  "language_info": {
   "codemirror_mode": {
    "name": "ipython",
    "version": 3
   },
   "file_extension": ".py",
   "mimetype": "text/x-python",
   "name": "python",
   "nbconvert_exporter": "python",
   "pygments_lexer": "ipython3",
   "version": "3.10.9"
  }
 },
 "nbformat": 4,
 "nbformat_minor": 5
}
