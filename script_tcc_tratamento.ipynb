{
 "cells": [
  {
   "cell_type": "markdown",
   "id": "5572c5d6",
   "metadata": {},
   "source": [
    "# Indicadores da GGTOX\n",
    "\n",
    "ESTE PROGRAMA IDENTIFICA O NÚMERO DE EXPEDIENTES TRAMITADOS POR SITUAÇÃO PARA A GGTOX \n",
    "PARA MEDIR A QUANTIDADE DE TRABALHO DEMANDADO, PRODUTIVIDADE DA ÁREA \n",
    "NUMERO DE ENTRADAS E FINALIZAÇÕES DE EXPEDIENTES POR ANO E MES \n",
    "ANALISA O TEMPO MÉDIO DE ANÁLISE DOS PROCESSOS CONSIDERANDO AS EXIGÊNCIAS FEITAS E O TEMPO DE FILA PARA ANÁLISE \n",
    "\n",
    "FONTES: \n",
    "1. RELATÓRIO SITUAÇÕES DE EXPEDIENTES DO DATAVISA-DV (SQLSERVER)\n",
    "2. TABELA 'DE PARA' CÓDIGOS DE ASSUNTOS - \n",
    "3. TABELA 'DE PARA' SITUAÇÃO DOS PROCESSOS \n",
    "4. CRITÉRIOS PARA FILA\n",
    " \n",
    "SAIDA: ARQUIVOS TXT PARA MONTAR A PUBLICAÇÃO NO SEI\n",
    " \n",
    "Versões - Atualizações\n",
    "\n",
    "1. Criado em 13/02/2023 \n",
    "\n",
    "\n",
    "\n",
    "\n",
    "Comparando SAS x Panda https://pandas.pydata.org/docs/getting_started/comparison/comparison_with_sas.html\n",
    "\n",
    "Leitura panda https://pandas.pydata.org/docs/reference/api/pandas.read_excel.html #https://stackoverflow.com/questions/37395881/pandas-read-in-txt-file-without-headers\n",
    " \n"
   ]
  },
  {
   "cell_type": "code",
   "execution_count": 1,
   "id": "9af16161",
   "metadata": {},
   "outputs": [],
   "source": [
    "#pip install pyodbc\n",
    "# importar bibliotecas\n",
    "import pandas as pd\n",
    "import numpy as np\n",
    "import io\n",
    "import pyodbc\n"
   ]
  },
  {
   "cell_type": "code",
   "execution_count": 2,
   "id": "8e8c4c47",
   "metadata": {},
   "outputs": [
    {
     "name": "stderr",
     "output_type": "stream",
     "text": [
      "C:\\Users\\alesa\\anaconda3\\lib\\site-packages\\pandas\\io\\sql.py:762: UserWarning: pandas only support SQLAlchemy connectable(engine/connection) ordatabase string URI or sqlite3 DBAPI2 connectionother DBAPI2 objects are not tested, please consider using SQLAlchemy\n",
      "  warnings.warn(\n"
     ]
    }
   ],
   "source": [
    "conn = pyodbc.connect('Driver={SQL Server};Server=anvssdf522;UID=alesandre.santos;PWD=Anvisa2021')\n",
    "query = 'SELECT * FROM ta_historico_peticao'\n",
    "df = pd.read_sql_query(query, conn)\n",
    "#df = df0.head(1000)\n",
    "\n"
   ]
  },
  {
   "cell_type": "code",
   "execution_count": 3,
   "id": "10cc71f3",
   "metadata": {},
   "outputs": [
    {
     "name": "stdout",
     "output_type": "stream",
     "text": [
      "<class 'pandas.core.frame.DataFrame'>\n",
      "RangeIndex: 244472 entries, 0 to 244471\n",
      "Data columns (total 15 columns):\n",
      " #   Column                     Non-Null Count   Dtype  \n",
      "---  ------                     --------------   -----  \n",
      " 0   CO_DOCUMENTO               244472 non-null  float64\n",
      " 1   CO_ASSUNTO                 244472 non-null  object \n",
      " 2   DS_ASSUNTO                 244472 non-null  object \n",
      " 3   DT_RECEBIMENTO_ANVISA_TOX  244472 non-null  object \n",
      " 4   NU_PROCESSO                244472 non-null  object \n",
      " 5   NU_EXPEDIENTE              244472 non-null  object \n",
      " 6   DS_TIPO_PRODUTO            229796 non-null  object \n",
      " 7   NU_CNPJ_EMPRESA            244460 non-null  object \n",
      " 8   NO_RAZAO_SOCIAL_EMPRESA    244460 non-null  object \n",
      " 9   NO_PRODUTO                 229796 non-null  object \n",
      " 10  DS_SITUACAO_ASSUNTO_DOC    244472 non-null  object \n",
      " 11  DT_INICIO_SITUACAO         244472 non-null  object \n",
      " 12  DT_FIM_SITUACAO            161248 non-null  object \n",
      " 13  DT_PUBLICACAO              101747 non-null  object \n",
      " 14  DT_CARGA                   244472 non-null  object \n",
      "dtypes: float64(1), object(14)\n",
      "memory usage: 28.0+ MB\n"
     ]
    }
   ],
   "source": [
    "df.info()"
   ]
  },
  {
   "cell_type": "code",
   "execution_count": null,
   "id": "d3283366",
   "metadata": {},
   "outputs": [],
   "source": [
    "df.to_excel('df_02_07_2023.xlsx', sheet_name='Planilha1', index=False)"
   ]
  },
  {
   "cell_type": "code",
   "execution_count": 4,
   "id": "8ce24ecd",
   "metadata": {},
   "outputs": [],
   "source": [
    "#df.head()\n",
    "#df.info()\n",
    "#base_a = base_a.dropna()\n",
    "#base_a.info()\n",
    "#base_a.isnull().sum()\n",
    "#base_a.head()"
   ]
  },
  {
   "cell_type": "code",
   "execution_count": 6,
   "id": "20265a4a",
   "metadata": {},
   "outputs": [],
   "source": [
    "assuntos = pd.read_excel(r'C:\\Users\\alesa\\OneDrive - ANVISA - Agencia Nacional de Vigilancia Sanitaria\\GGTOX\\3.INDICADORES\\assuntos.xls',\n",
    "                         header=0, sheet_name=\"ASSUNTOS\")\n",
    "status   = pd.read_excel(r'C:\\Users\\alesa\\OneDrive - ANVISA - Agencia Nacional de Vigilancia Sanitaria\\GGTOX\\3.INDICADORES\\STATUS_NIVEL_2.xls',\n",
    "                         header=0, sheet_name=\"STATUS_NIVEL_2\")\n",
    "\n",
    "colunas_para_excluir0 = ['ContarDeCO_ASSUNTO2', 'MáxDeDATA_SITUACAO', 'STATUS_3_GGTOX', 'STATUS_GT', 'DEFINICAO_GT', \n",
    "                        'ciclo' ]\n",
    "status = status.drop(colunas_para_excluir0, axis=1)\n",
    "\n",
    "crit_fila   = pd.read_excel(r'C:\\Users\\alesa\\OneDrive - ANVISA - Agencia Nacional de Vigilancia Sanitaria\\GGTOX\\3.INDICADORES\\FILA_ANALISE_ASSUNTO_SITUACAO.xlsx',\n",
    "                         header=0, sheet_name=\"FILA_ANALISE_ASSUNTO_SITUACAO\")\n",
    "crit_fila = crit_fila[['CO_ASSUNTO','DS_SITUACAO_ASSUNTO_DOC','TIPO_LISTA_FILA', 'FILA','SUBFILA']]\n",
    "\n",
    "#crit_fila.info()\n"
   ]
  },
  {
   "cell_type": "code",
   "execution_count": 7,
   "id": "bca6daa5",
   "metadata": {},
   "outputs": [],
   "source": [
    "# Transformando datas no formato data\n",
    "df = pd.DataFrame(df[(df['NU_EXPEDIENTE'] != '977988114') &\n",
    "                     (df['NU_EXPEDIENTE'] != '036605116')])\n",
    "\n",
    "df['DT_ENTRADA'] = pd.to_datetime(df['DT_RECEBIMENTO_ANVISA_TOX'],format=\"%Y-%m-%d %H:%M:%S.%f\")\n",
    "df['DT_INICIO_SITUACAO'] = pd.to_datetime(df['DT_INICIO_SITUACAO'],format=\"%Y-%m-%d %H:%M:%S.%f\")\n",
    "df['DT_FIM_SITUACAO'] = pd.to_datetime(df['DT_FIM_SITUACAO'],format=\"%Y-%m-%d %H:%M:%S.%f\")\n",
    "df['DT_PUBLICACAO'] = pd.to_datetime(df['DT_PUBLICACAO'],format=\"%Y-%m-%d %H:%M:%S.%f\")\n",
    "df['DT_CARGA'] = pd.to_datetime(df['DT_CARGA'],format=\"%Y-%m-%d %H:%M:%S.%f\")\n",
    "\n",
    "df['CO_ASSUNTO'] = df['CO_ASSUNTO'].astype('int64')\n",
    "\n",
    "#df.info()"
   ]
  },
  {
   "cell_type": "code",
   "execution_count": 8,
   "id": "df92d9ec",
   "metadata": {},
   "outputs": [],
   "source": [
    "# Define a função para formatar o CNPJ e Expediente\n",
    "def formatar_cnpj(NU_CNPJ_EMPRESA):\n",
    "    return \"{}.{}.{}/{}-{}\".format(NU_CNPJ_EMPRESA[:2], NU_CNPJ_EMPRESA[2:5], NU_CNPJ_EMPRESA[5:8], NU_CNPJ_EMPRESA[8:12], NU_CNPJ_EMPRESA[12:])\n",
    "\n",
    "def formatar_exped(NU_EXPEDIENTE):\n",
    "    return \"{}/{}-{}\".format(NU_EXPEDIENTE[:7],  NU_EXPEDIENTE[7:8], NU_EXPEDIENTE[8:])\n",
    "\n",
    "# Cria a nova coluna com o CNPJ formatado\n",
    "df['NU_CNPJ_EMPRESA'] = df['NU_CNPJ_EMPRESA'].astype('str')\n",
    "df['NU_CNPJ_EMPRESA'] = df['NU_CNPJ_EMPRESA'].apply(formatar_cnpj)\n",
    "\n",
    "df['NU_EXPEDIENTE'] = df['NU_EXPEDIENTE'].astype('str')\n",
    "df['NU_EXPEDIENTE_f'] = df['NU_EXPEDIENTE'].apply(formatar_exped)\n",
    "\n",
    "df['NU_EXPEDIENTE'] = df['NU_EXPEDIENTE'].astype('int64')\n",
    "\n",
    "#df.head()"
   ]
  },
  {
   "cell_type": "code",
   "execution_count": 9,
   "id": "cf1b02f7",
   "metadata": {},
   "outputs": [],
   "source": [
    "# Criando \n",
    "df_r = pd.DataFrame((df[(df['CO_ASSUNTO'] == 5062)]))\n",
    "\n",
    "df_c = pd.DataFrame(df[(df['DS_SITUACAO_ASSUNTO_DOC'] == \"Cancelado a pedido da empresa\") |\n",
    "                       (df['DS_SITUACAO_ASSUNTO_DOC'] == \"Desistência a pedido\")|\n",
    "                       (df['DS_SITUACAO_ASSUNTO_DOC'] == \"Petição encerrada\")|\n",
    "                       (df['DS_SITUACAO_ASSUNTO_DOC'] == \"Arquivado\")|\n",
    "                       (df['DS_SITUACAO_ASSUNTO_DOC'] == \"Arquivado a pedido\")])\n",
    "\n",
    "#df_c.head()\n",
    "df_ra = df_r.groupby('NU_PROCESSO').size().reset_index(name='RECURSO')\n",
    "df_ca = df_c.groupby('NU_PROCESSO').size().reset_index(name='CANCELADO')\n"
   ]
  },
  {
   "cell_type": "code",
   "execution_count": 10,
   "id": "4ce9bd2e",
   "metadata": {},
   "outputs": [],
   "source": [
    "df_001 = df.merge(df_ra, on=\"NU_PROCESSO\", how=\"left\").merge(df_ca, on=\"NU_PROCESSO\", how=\"left\")\n",
    "df_002 = df_001.merge(assuntos, on=\"CO_ASSUNTO\", how=\"left\")\n",
    "colunas_para_excluir = ['Fato_Gerador', 'obs',  'Tipo_agrofit', 'DT_RECEBIMENTO_ANVISA_TOX', \n",
    "                        'prazo_336']\n",
    "df_002 = df_002.drop(colunas_para_excluir, axis=1)\n",
    "\n",
    "df_002 = pd.DataFrame(df_002[(df_002['TIPO_PUBLICACAO'] == \"1. Registro\") |\n",
    "                             (df_002['TIPO_PUBLICACAO'] == \"2. Pós-Registro\")])\n",
    "\n",
    "#df_002.info()"
   ]
  },
  {
   "cell_type": "code",
   "execution_count": 11,
   "id": "fe615500",
   "metadata": {},
   "outputs": [],
   "source": [
    "ult_status = df_002.groupby(['NU_PROCESSO', 'NU_EXPEDIENTE'])['DT_INICIO_SITUACAO'].max().reset_index()\n",
    "\n",
    "base_dv_0  = df_002.merge(ult_status, on=['NU_PROCESSO', 'NU_EXPEDIENTE','DT_INICIO_SITUACAO' ], how=\"inner\")\n",
    "\n",
    "ult_status_r = base_dv_0.groupby(['NU_PROCESSO', 'NU_EXPEDIENTE','DT_INICIO_SITUACAO'])['DT_INICIO_SITUACAO'].size().reset_index(name='QTD_ERRO')\n",
    "\n",
    "ult_status_r = pd.DataFrame(ult_status_r[(ult_status_r['QTD_ERRO'] >= 2)])\n",
    "\n",
    "base_dv_1  = base_dv_0.merge(ult_status_r, on=['NU_PROCESSO', 'NU_EXPEDIENTE','DT_INICIO_SITUACAO' ], how=\"left\")\n",
    "base_dv_1['MARCADOR'] = np.where((base_dv_1['QTD_ERRO'] >= 2) & (base_dv_1['DT_FIM_SITUACAO'].notnull()), 1,0)\n",
    "base_dv_1 = pd.DataFrame(base_dv_1[(base_dv_1['MARCADOR'] == 0)])\n",
    "base_dv_1['ULT_SIT'] = base_dv_1['DS_SITUACAO_ASSUNTO_DOC']\n",
    "base_dv_1['DT_INICIO_UL_SITUACAO'] = base_dv_1['DT_INICIO_SITUACAO']\n",
    "\n",
    "base_dv_1 = base_dv_1[['NU_PROCESSO', 'NU_EXPEDIENTE','ULT_SIT','DT_INICIO_UL_SITUACAO']]\n",
    "\n",
    "#base_dv_1.info()\n",
    "       \n"
   ]
  },
  {
   "cell_type": "code",
   "execution_count": 12,
   "id": "52896e73",
   "metadata": {},
   "outputs": [],
   "source": [
    "\n",
    "# Se Finalizado e data de publicação = nulo então data finalização = data situação else data publicação\n",
    "\n",
    "df_003  = df_002.merge(base_dv_1, on=['NU_PROCESSO', 'NU_EXPEDIENTE'], how=\"left\")    \n",
    "df_004 = df_003.merge(status, left_on=\"ULT_SIT\", right_on=\"DS_SITUACAO_ASSUNTO_DOC\", how=\"left\")\n",
    "\n",
    "\n",
    "df_004 = df_004.drop(['DS_SITUACAO_ASSUNTO_DOC_y'], axis=1)\n",
    "df_004['DS_SITUACAO_ASSUNTO_DOC'] = df_004['DS_SITUACAO_ASSUNTO_DOC_x']\n",
    "df_004['STATUS_2_GGTOX_P'] = df_004['STATUS_2_GGTOX']\n",
    "\n",
    "df_004 = df_004.drop(['DS_SITUACAO_ASSUNTO_DOC_x','STATUS_2_GGTOX', 'CICLO_GGTOX','ordem_ciclo','inativado'], axis=1)\n"
   ]
  },
  {
   "cell_type": "code",
   "execution_count": 13,
   "id": "b4a42335",
   "metadata": {},
   "outputs": [],
   "source": [
    "df_005 = df_004.merge(status, left_on=\"DS_SITUACAO_ASSUNTO_DOC\", right_on=\"DS_SITUACAO_ASSUNTO_DOC\", how=\"left\")\n",
    "df_005['data_p_nula'] = df_005['DT_PUBLICACAO'].isnull().astype(int)\n",
    "df_005['DT_FINALIZACAO'] = np.where((df_005['data_p_nula'] == 1) & (df_005['STATUS_2_GGTOX_P'] == 'Finalizados'),\n",
    "                                    df_005['DT_INICIO_UL_SITUACAO'], df_005['DT_PUBLICACAO'])\n",
    "df_005['DATA_FINALIZACAO'] = df_005['DT_FINALIZACAO'].dt.date\n",
    "df_005['DATA_ENTRADA'] = df_005['DT_ENTRADA'].dt.date\n",
    "df_005= df_005.drop(['data_p_nula'], axis=1)\n",
    "\n",
    "df_006 = df_005.merge(crit_fila, on=['CO_ASSUNTO', 'DS_SITUACAO_ASSUNTO_DOC'], how=\"left\")\n",
    "df_006 = pd.DataFrame(df_006[(df_006['ULT_SIT'] == df_006['DS_SITUACAO_ASSUNTO_DOC']) &\n",
    "                             (df_006['DT_INICIO_UL_SITUACAO'] == df_006['DT_INICIO_SITUACAO'])])                   \n",
    "\n",
    "\n",
    "\n",
    "ANDAMENTO = pd.DataFrame(df_006[(df_006['STATUS_2_GGTOX_P'] == \"Em Processamento\") &\n",
    "                                   (df_006['CO_ASSUNTO'] != 5015) &\n",
    "                                   (df_006['ULT_SIT'] == df_006['DS_SITUACAO_ASSUNTO_DOC']) &\n",
    "                                   (df_006['DT_INICIO_UL_SITUACAO'] == df_006['DT_INICIO_SITUACAO'])])                   \n",
    "\n",
    "FINALIZADOS = pd.DataFrame(df_006[(df_006['STATUS_2_GGTOX_P'] == \"Finalizados\") &\n",
    "                                   (df_006['ULT_SIT'] == df_006['DS_SITUACAO_ASSUNTO_DOC']) &\n",
    "                                   (df_006['DT_INICIO_UL_SITUACAO'] == df_006['DT_INICIO_SITUACAO'])])                   \n",
    "\n",
    "SAIDA_DV = FINALIZADOS.groupby(['CO_ASSUNTO','DATA_FINALIZACAO']).size().reset_index(name='SAIDA_DV')\n",
    "ENTRADA_DV = df_006.groupby(['CO_ASSUNTO','DATA_ENTRADA']).size().reset_index(name='ENTRADA_DV')\n",
    "\n",
    "#df_005.info()"
   ]
  },
  {
   "cell_type": "code",
   "execution_count": 14,
   "id": "3b90c135",
   "metadata": {},
   "outputs": [],
   "source": [
    "IND_FINALIZADOS = pd.DataFrame(df_005[(df_005['STATUS_2_GGTOX_P'] == \"Finalizados\")])\n",
    "\n",
    "IND_FINALIZADOS = IND_FINALIZADOS.sort_values(by=['NU_PROCESSO', 'NU_EXPEDIENTE', 'CO_ASSUNTO','DT_INICIO_SITUACAO','ordem_ciclo'],\n",
    "                           ascending=[True,True,True, False, True])\n",
    "\n",
    "IND_FINALIZADOS['DT_FIM_SITUACAO_LAG'] = IND_FINALIZADOS['DT_INICIO_SITUACAO'].shift(1)\n",
    "\n",
    "IND_FINALIZADOS = pd.DataFrame(IND_FINALIZADOS[(IND_FINALIZADOS['DT_INICIO_SITUACAO'] <= IND_FINALIZADOS['DT_FINALIZACAO'])])       \n",
    "\n",
    "IND_FINALIZADOS['DIAS'] = np.where((IND_FINALIZADOS['NU_PROCESSO'] == IND_FINALIZADOS['NU_PROCESSO'].shift(1)) & \n",
    "                                   (IND_FINALIZADOS['NU_EXPEDIENTE'] == IND_FINALIZADOS['NU_EXPEDIENTE'].shift(1)),\n",
    "                                   IND_FINALIZADOS.apply(lambda row: (row['DT_FIM_SITUACAO_LAG'] - row['DT_INICIO_SITUACAO']).days, axis=1),\n",
    "                                   0)\n",
    "IND_FINALIZADOS = pd.DataFrame(IND_FINALIZADOS[(IND_FINALIZADOS['DIAS'] > 0)])\n",
    "\n",
    "#TESTE = pd.DataFrame(IND_FINALIZADOS[(IND_FINALIZADOS['NU_EXPEDIENTE'] == \"899549104\")])\n",
    "\n",
    "#IND_FINALIZADOS.info()\n",
    "#TESTE = IND_FINALIZADOS[['NU_PROCESSO', 'NU_EXPEDIENTE','DS_SITUACAO_ASSUNTO_DOC','DT_INICIO_SITUACAO','DT_FIM_SITUACAO','DT_FIM_SITUACAO_LAG','DT_FINALIZACAO','DIAS']]\n",
    "#TESTE.to_excel('TESTE.xlsx', sheet_name='Planilha1', index=False)\n",
    "\n",
    "#TESTE9 = pd.DataFrame(IND_FINALIZADOS[(IND_FINALIZADOS['NU_EXPEDIENTE'] == 276700201)])\n",
    "#TESTE9.head()"
   ]
  },
  {
   "cell_type": "code",
   "execution_count": 15,
   "id": "42d54a98",
   "metadata": {},
   "outputs": [],
   "source": [
    "IND_FINALIZADOS['CICLO_GGTOX'] = np.where((IND_FINALIZADOS['CICLO_GGTOX'].isnull()), \"5.Nao_classificado\", IND_FINALIZADOS['CICLO_GGTOX'])\n",
    "IND_FINALIZADOS['SAIDA_A'] = IND_FINALIZADOS['DT_FINALIZACAO'].dt.year\n",
    "IND_FINALIZADOS['SAIDA_M'] = IND_FINALIZADOS['DT_FINALIZACAO'].dt.month\n",
    "IND_FINALIZADOS['ENTRADA_A'] = IND_FINALIZADOS['DT_ENTRADA'].dt.year\n",
    "IND_FINALIZADOS['ENTRADA_M'] = IND_FINALIZADOS['DT_ENTRADA'].dt.month\n",
    "\n",
    "#TESTE10 = pd.DataFrame(IND_FINALIZADOS[(IND_FINALIZADOS['NU_EXPEDIENTE'] == 276700201)])\n",
    "#TESTE10.head()"
   ]
  },
  {
   "cell_type": "code",
   "execution_count": 16,
   "id": "59dada00",
   "metadata": {},
   "outputs": [],
   "source": [
    "IND_FINALIZADOS_T = IND_FINALIZADOS.groupby(['SAIDA_A','SAIDA_M','ENTRADA_A','ENTRADA_M',\n",
    "                                  'CO_ASSUNTO','NU_PROCESSO','NU_EXPEDIENTE']).agg({'RECURSO': 'max',\n",
    "                                                                                                 'CANCELADO': 'max',\n",
    "                                                                                                 'DT_FINALIZACAO': 'max',\n",
    "                                                                                                 'DT_ENTRADA': 'min'}).reset_index()\n",
    "\n",
    "IND_FINALIZADOS_T['DT_INICIO_SITUACAO'] = IND_FINALIZADOS_T['DT_ENTRADA']\n",
    "IND_FINALIZADOS_T['DT_FIM_SITUACAO'] = IND_FINALIZADOS_T['DT_FINALIZACAO']\n",
    "IND_FINALIZADOS_T['CICLO_GGTOX'] = '6.Tempo_total'\n",
    "\n",
    "IND_FINALIZADOS_T['DIAS'] = IND_FINALIZADOS_T.apply(lambda row: (row['DT_FINALIZACAO'] - row['DT_ENTRADA']).days, axis=1)\n",
    "\n",
    "#IND_FINALIZADOS_T.info()\n",
    "\n",
    "#TESTE8 = pd.DataFrame(IND_FINALIZADOS_T[(IND_FINALIZADOS_T['NU_EXPEDIENTE'] == 276700201)])\n",
    "#TESTE8.head()\n",
    "\n"
   ]
  },
  {
   "cell_type": "code",
   "execution_count": 18,
   "id": "8413d347",
   "metadata": {},
   "outputs": [],
   "source": [
    "IND_FINAL = pd.concat([IND_FINALIZADOS_T,IND_FINALIZADOS])\n",
    "\n",
    "IND_FINAL = pd.DataFrame(IND_FINAL[(IND_FINAL['DIAS'] > 0)])\n",
    "\n",
    "IND_FINAL_1 = IND_FINAL[['SAIDA_A','SAIDA_M','ENTRADA_A','ENTRADA_M','CO_ASSUNTO','NU_PROCESSO','NU_EXPEDIENTE','RECURSO',\n",
    "                       'CANCELADO','DT_FINALIZACAO','DT_ENTRADA','DT_INICIO_SITUACAO','DT_FIM_SITUACAO',\n",
    "'CICLO_GGTOX','DIAS','NU_CNPJ_EMPRESA','NO_RAZAO_SOCIAL_EMPRESA','NO_PRODUTO','DT_FIM_SITUACAO_LAG']]\n",
    "\n",
    "#IND_FINAL.info()\n",
    "\n",
    "IND_FINAL.to_excel('IND_FINAL.xlsx', sheet_name='Planilha1', index=False)"
   ]
  },
  {
   "cell_type": "code",
   "execution_count": null,
   "id": "b7c64648",
   "metadata": {},
   "outputs": [],
   "source": [
    "#TESTAR O AGRUPAMENTO DO TEMPO TOTAL: IND_FINALIZADOS_T \n",
    "\n",
    "#teste = IND_FINAL.groupby(['CICLO_GGTOX']).agg({'NU_EXPEDIENTE': 'count'})\n",
    "#teste.head()\n",
    "#TESTE.to_excel('TESTE.xlsx', sheet_name='Planilha1', index=False)\n",
    "#IND_FINALIZADOS.to_excel('IND_FINALIZADOS.xlsx', sheet_name='Planilha1', index=False)\n",
    "#IND_FINALIZADOS_T.to_excel('IND_FINALIZADOS_T.xlsx', sheet_name='Planilha1', index=False)"
   ]
  },
  {
   "cell_type": "code",
   "execution_count": null,
   "id": "d1a186f4",
   "metadata": {},
   "outputs": [],
   "source": []
  }
 ],
 "metadata": {
  "kernelspec": {
   "display_name": "Python 3 (ipykernel)",
   "language": "python",
   "name": "python3"
  },
  "language_info": {
   "codemirror_mode": {
    "name": "ipython",
    "version": 3
   },
   "file_extension": ".py",
   "mimetype": "text/x-python",
   "name": "python",
   "nbconvert_exporter": "python",
   "pygments_lexer": "ipython3",
   "version": "3.9.13"
  }
 },
 "nbformat": 4,
 "nbformat_minor": 5
}
