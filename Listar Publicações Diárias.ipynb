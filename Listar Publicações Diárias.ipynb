{
 "cells": [
  {
   "cell_type": "code",
   "execution_count": 2,
   "id": "c5d653c4",
   "metadata": {
    "collapsed": true
   },
   "outputs": [
    {
     "name": "stdout",
     "output_type": "stream",
     "text": [
      "Collecting selenium\n",
      "  Downloading selenium-4.10.0-py3-none-any.whl (6.7 MB)\n",
      "     ---------------------------------------- 6.7/6.7 MB 7.0 MB/s eta 0:00:00\n",
      "Collecting trio-websocket~=0.9\n",
      "  Downloading trio_websocket-0.10.3-py3-none-any.whl (17 kB)\n",
      "Requirement already satisfied: certifi>=2021.10.8 in c:\\users\\pc-000\\anaconda3\\lib\\site-packages (from selenium) (2022.12.7)\n",
      "Collecting trio~=0.17\n",
      "  Downloading trio-0.22.0-py3-none-any.whl (384 kB)\n",
      "     -------------------------------------- 384.9/384.9 kB 6.0 MB/s eta 0:00:00\n",
      "Requirement already satisfied: urllib3[socks]<3,>=1.26 in c:\\users\\pc-000\\anaconda3\\lib\\site-packages (from selenium) (1.26.14)\n",
      "Requirement already satisfied: attrs>=19.2.0 in c:\\users\\pc-000\\anaconda3\\lib\\site-packages (from trio~=0.17->selenium) (22.1.0)\n",
      "Requirement already satisfied: sniffio in c:\\users\\pc-000\\anaconda3\\lib\\site-packages (from trio~=0.17->selenium) (1.2.0)\n",
      "Collecting exceptiongroup>=1.0.0rc9\n",
      "  Downloading exceptiongroup-1.1.1-py3-none-any.whl (14 kB)\n",
      "Requirement already satisfied: sortedcontainers in c:\\users\\pc-000\\anaconda3\\lib\\site-packages (from trio~=0.17->selenium) (2.4.0)\n",
      "Collecting async-generator>=1.9\n",
      "  Downloading async_generator-1.10-py3-none-any.whl (18 kB)\n",
      "Collecting outcome\n",
      "  Downloading outcome-1.2.0-py2.py3-none-any.whl (9.7 kB)\n",
      "Requirement already satisfied: cffi>=1.14 in c:\\users\\pc-000\\anaconda3\\lib\\site-packages (from trio~=0.17->selenium) (1.15.1)\n",
      "Requirement already satisfied: idna in c:\\users\\pc-000\\anaconda3\\lib\\site-packages (from trio~=0.17->selenium) (3.4)\n",
      "Collecting wsproto>=0.14\n",
      "  Downloading wsproto-1.2.0-py3-none-any.whl (24 kB)\n",
      "Requirement already satisfied: PySocks!=1.5.7,<2.0,>=1.5.6 in c:\\users\\pc-000\\anaconda3\\lib\\site-packages (from urllib3[socks]<3,>=1.26->selenium) (1.7.1)\n",
      "Requirement already satisfied: pycparser in c:\\users\\pc-000\\anaconda3\\lib\\site-packages (from cffi>=1.14->trio~=0.17->selenium) (2.21)\n",
      "Collecting h11<1,>=0.9.0\n",
      "  Downloading h11-0.14.0-py3-none-any.whl (58 kB)\n",
      "     ---------------------------------------- 58.3/58.3 kB 3.0 MB/s eta 0:00:00\n",
      "Installing collected packages: outcome, h11, exceptiongroup, async-generator, wsproto, trio, trio-websocket, selenium\n",
      "Successfully installed async-generator-1.10 exceptiongroup-1.1.1 h11-0.14.0 outcome-1.2.0 selenium-4.10.0 trio-0.22.0 trio-websocket-0.10.3 wsproto-1.2.0\n"
     ]
    }
   ],
   "source": [
    "!pip install selenium"
   ]
  },
  {
   "cell_type": "code",
   "execution_count": 3,
   "id": "7817adcd",
   "metadata": {},
   "outputs": [],
   "source": [
    "import pandas as pd\n",
    "import requests\n",
    "import re\n",
    "from bs4 import BeautifulSoup\n",
    "from selenium import webdriver\n",
    "from selenium.webdriver.chrome.options import Options"
   ]
  },
  {
   "cell_type": "code",
   "execution_count": 26,
   "id": "0b03d276",
   "metadata": {},
   "outputs": [],
   "source": [
    "def listar_publicacoes(data):\n",
    "    \n",
    "    options = Options()\n",
    "    options.add_argument('--headless')\n",
    "    \n",
    "    driver = webdriver.Chrome(options=options)\n",
    "\n",
    "    url = 'https://www.in.gov.br/leiturajornal'\n",
    "\n",
    "    data = data\n",
    "    orgao = 'Ministério-da-Saúde'\n",
    "    orgao_sub = 'Ag%C3%AAncia%20Nacional%20de%20Vigil%C3%A2ncia%20Sanit%C3%A1ria'\n",
    "    ato = 'Resolução'\n",
    "\n",
    "    url_base = f'https://www.in.gov.br/leiturajornal?secao=dou1&data={data}&org=Minist%C3%A9rio-da-Sa%C3%BAde&org_sub=Ag%C3%AAncia%20Nacional%20de%20Vigil%C3%A2ncia%20Sanit%C3%A1ria&ato=Resolu%C3%A7%C3%A3o'\n",
    "\n",
    "    driver.get(url_base)\n",
    "               \n",
    "    html_content = driver.page_source\n",
    "\n",
    "    driver.quit()\n",
    "\n",
    "    soup = BeautifulSoup(html_content, 'html.parser')\n",
    "\n",
    "    padrao = re.compile(r'web/dou/-/resolucao.*')\n",
    "    links = soup.find_all('a', href=padrao)\n",
    "\n",
    "    links_filtrados = [] \n",
    "    for link in links:\n",
    "        li = link.get('href')\n",
    "        links_filtrados.append(f'https://www.in.gov.br/{li}')\n",
    "        \n",
    "        #print(f'https://www.in.gov.br/{li}')\n",
    "        \n",
    "    return(links_filtrados)"
   ]
  },
  {
   "cell_type": "code",
   "execution_count": 27,
   "id": "4f31834e",
   "metadata": {},
   "outputs": [],
   "source": [
    "links = listar_publicacoes('19-06-2023')"
   ]
  },
  {
   "cell_type": "code",
   "execution_count": 28,
   "id": "8fbde028",
   "metadata": {},
   "outputs": [
    {
     "data": {
      "text/plain": [
       "['https://www.in.gov.br//web/dou/-/resolucao-re-n-2.127-de-14-de-junho-de-2023-490444286',\n",
       " 'https://www.in.gov.br//web/dou/-/resolucao-re-n-2.128-de-14-de-junho-de-2023-490439993',\n",
       " 'https://www.in.gov.br//web/dou/-/resolucao-re-n-2.129-de-14-de-junho-de-2023-490428551',\n",
       " 'https://www.in.gov.br//web/dou/-/resolucao-re-n-2.130-de-15-de-junho-de-2023-490444365',\n",
       " 'https://www.in.gov.br//web/dou/-/resolucao-re-n-2.131-de-15-de-junho-de-2023-490440090',\n",
       " 'https://www.in.gov.br//web/dou/-/resolucao-re-n-2.132-de-15-de-junho-de-2023-490444444',\n",
       " 'https://www.in.gov.br//web/dou/-/resolucao-re-n-2.133-de-15-de-junho-de-2023-490444572',\n",
       " 'https://www.in.gov.br//web/dou/-/resolucao-re-n-2.134-de-15-de-junho-de-2023-490440151',\n",
       " 'https://www.in.gov.br//web/dou/-/resolucao-re-n-2.114-de-14-de-junho-de-2023-490428601',\n",
       " 'https://www.in.gov.br//web/dou/-/resolucao-re-n-2.115-de-14-de-junho-de-2023-490440230']"
      ]
     },
     "execution_count": 28,
     "metadata": {},
     "output_type": "execute_result"
    }
   ],
   "source": [
    "links"
   ]
  },
  {
   "cell_type": "code",
   "execution_count": null,
   "id": "227d9033",
   "metadata": {},
   "outputs": [],
   "source": [
    "# aqui ele somente mostra a primeira pagina\n",
    "#nesse outro script ele pega o resultado de todas as páginas\n"
   ]
  },
  {
   "cell_type": "code",
   "execution_count": 29,
   "id": "05a7d5ce",
   "metadata": {},
   "outputs": [
    {
     "name": "stdout",
     "output_type": "stream",
     "text": [
      "Requirement already satisfied: selenium in c:\\users\\pc-000\\anaconda3\\lib\\site-packages (4.10.0)\n",
      "Requirement already satisfied: trio-websocket~=0.9 in c:\\users\\pc-000\\anaconda3\\lib\\site-packages (from selenium) (0.10.3)\n",
      "Requirement already satisfied: urllib3[socks]<3,>=1.26 in c:\\users\\pc-000\\anaconda3\\lib\\site-packages (from selenium) (1.26.14)\n",
      "Requirement already satisfied: certifi>=2021.10.8 in c:\\users\\pc-000\\anaconda3\\lib\\site-packages (from selenium) (2022.12.7)\n",
      "Requirement already satisfied: trio~=0.17 in c:\\users\\pc-000\\anaconda3\\lib\\site-packages (from selenium) (0.22.0)\n",
      "Requirement already satisfied: idna in c:\\users\\pc-000\\anaconda3\\lib\\site-packages (from trio~=0.17->selenium) (3.4)\n",
      "Requirement already satisfied: outcome in c:\\users\\pc-000\\anaconda3\\lib\\site-packages (from trio~=0.17->selenium) (1.2.0)\n",
      "Requirement already satisfied: sortedcontainers in c:\\users\\pc-000\\anaconda3\\lib\\site-packages (from trio~=0.17->selenium) (2.4.0)\n",
      "Requirement already satisfied: sniffio in c:\\users\\pc-000\\anaconda3\\lib\\site-packages (from trio~=0.17->selenium) (1.2.0)\n",
      "Requirement already satisfied: async-generator>=1.9 in c:\\users\\pc-000\\anaconda3\\lib\\site-packages (from trio~=0.17->selenium) (1.10)\n",
      "Requirement already satisfied: attrs>=19.2.0 in c:\\users\\pc-000\\anaconda3\\lib\\site-packages (from trio~=0.17->selenium) (22.1.0)\n",
      "Requirement already satisfied: cffi>=1.14 in c:\\users\\pc-000\\anaconda3\\lib\\site-packages (from trio~=0.17->selenium) (1.15.1)\n",
      "Requirement already satisfied: exceptiongroup>=1.0.0rc9 in c:\\users\\pc-000\\anaconda3\\lib\\site-packages (from trio~=0.17->selenium) (1.1.1)\n",
      "Requirement already satisfied: wsproto>=0.14 in c:\\users\\pc-000\\anaconda3\\lib\\site-packages (from trio-websocket~=0.9->selenium) (1.2.0)\n",
      "Requirement already satisfied: PySocks!=1.5.7,<2.0,>=1.5.6 in c:\\users\\pc-000\\anaconda3\\lib\\site-packages (from urllib3[socks]<3,>=1.26->selenium) (1.7.1)\n",
      "Requirement already satisfied: pycparser in c:\\users\\pc-000\\anaconda3\\lib\\site-packages (from cffi>=1.14->trio~=0.17->selenium) (2.21)\n",
      "Requirement already satisfied: h11<1,>=0.9.0 in c:\\users\\pc-000\\anaconda3\\lib\\site-packages (from wsproto>=0.14->trio-websocket~=0.9->selenium) (0.14.0)\n"
     ]
    }
   ],
   "source": [
    "import pandas as pd\n",
    "import requests\n",
    "import re\n",
    "from bs4 import BeautifulSoup\n",
    "!pip install selenium\n",
    "from selenium import webdriver\n",
    "from selenium.webdriver.chrome.options import Options\n",
    "from selenium.webdriver.common.by import By\n",
    "from selenium.webdriver.support.ui import WebDriverWait\n",
    "from selenium.webdriver.support import expected_conditions as EC"
   ]
  },
  {
   "cell_type": "code",
   "execution_count": 30,
   "id": "322b82a6",
   "metadata": {},
   "outputs": [],
   "source": [
    "def listar_publicacoes(data):\n",
    "    \n",
    "    options = Options()\n",
    "    options.add_argument('--headless')\n",
    "    \n",
    "    driver = webdriver.Chrome(options=options)\n",
    "\n",
    "    url = 'https://www.in.gov.br/leiturajornal'\n",
    "\n",
    "    data = data\n",
    "    orgao = 'Ministério-da-Saúde'\n",
    "    orgao_sub = 'Ag%C3%AAncia%20Nacional%20de%20Vigil%C3%A2ncia%20Sanit%C3%A1ria'\n",
    "    ato = 'Resolução'\n",
    "\n",
    "    url_base = f'https://www.in.gov.br/leiturajornal?secao=dou1&data={data}&org=Minist%C3%A9rio-da-Sa%C3%BAde&org_sub=Ag%C3%AAncia%20Nacional%20de%20Vigil%C3%A2ncia%20Sanit%C3%A1ria&ato=Resolu%C3%A7%C3%A3o'\n",
    "\n",
    "    driver.get(url_base)\n",
    "              \n",
    "    # Esperar até que o botão esteja visível\n",
    "    wait = WebDriverWait(driver, 5)\n",
    "    botao = wait.until(EC.visibility_of_element_located((By.ID, 'viewMenuOptionTree')))\n",
    "\n",
    "    # Clicar no botão\n",
    "    botao.click()\n",
    "\n",
    "    html_content = driver.page_source\n",
    "        \n",
    "    driver.quit()\n",
    "\n",
    "    soup = BeautifulSoup(html_content, 'html.parser')\n",
    "\n",
    "    padrao = re.compile(r'/web/dou/-/resolucao.*')\n",
    "    links = soup.find_all('a', href=padrao)\n",
    "\n",
    "    links_filtrados = [] \n",
    "    for link in links:\n",
    "        li = link.get('href')\n",
    "        links_filtrados.append(f'https://www.in.gov.br/{li}')\n",
    "        \n",
    "        print(f'https://www.in.gov.br/{li}')\n",
    "        \n",
    "    return(links_filtrados)"
   ]
  },
  {
   "cell_type": "code",
   "execution_count": 31,
   "id": "ce05d9c5",
   "metadata": {},
   "outputs": [
    {
     "name": "stdout",
     "output_type": "stream",
     "text": [
      "https://www.in.gov.br//web/dou/-/resolucao-re-n-2.127-de-14-de-junho-de-2023-490444286\n",
      "https://www.in.gov.br//web/dou/-/resolucao-re-n-2.128-de-14-de-junho-de-2023-490439993\n",
      "https://www.in.gov.br//web/dou/-/resolucao-re-n-2.129-de-14-de-junho-de-2023-490428551\n",
      "https://www.in.gov.br//web/dou/-/resolucao-re-n-2.130-de-15-de-junho-de-2023-490444365\n",
      "https://www.in.gov.br//web/dou/-/resolucao-re-n-2.131-de-15-de-junho-de-2023-490440090\n",
      "https://www.in.gov.br//web/dou/-/resolucao-re-n-2.132-de-15-de-junho-de-2023-490444444\n",
      "https://www.in.gov.br//web/dou/-/resolucao-re-n-2.133-de-15-de-junho-de-2023-490444572\n",
      "https://www.in.gov.br//web/dou/-/resolucao-re-n-2.134-de-15-de-junho-de-2023-490440151\n",
      "https://www.in.gov.br//web/dou/-/resolucao-re-n-2.114-de-14-de-junho-de-2023-490428601\n",
      "https://www.in.gov.br//web/dou/-/resolucao-re-n-2.115-de-14-de-junho-de-2023-490440230\n",
      "https://www.in.gov.br//web/dou/-/resolucao-re-n-2.116-de-14-de-junho-de-2023-490440309\n",
      "https://www.in.gov.br//web/dou/-/resolucao-re-n-2.117-de-14-de-junho-de-2023-490444730\n",
      "https://www.in.gov.br//web/dou/-/resolucao-re-n-2.118-de-14-de-junho-de-2023-490444758\n",
      "https://www.in.gov.br//web/dou/-/resolucao-re-n-2.161-de-15-de-junho-de-2023-490444837\n",
      "https://www.in.gov.br//web/dou/-/resolucao-re-n-2.153-de-15-de-junho-de-2023-490444916\n",
      "https://www.in.gov.br//web/dou/-/resolucao-re-n-2.154-de-15-de-junho-de-2023-490444995\n",
      "https://www.in.gov.br//web/dou/-/resolucao-re-n-2.155-de-15-de-junho-de-2023-490440388\n",
      "https://www.in.gov.br//web/dou/-/resolucao-re-n-2.156-de-15-de-junho-de-2023-490428680\n",
      "https://www.in.gov.br//web/dou/-/resolucao-re-n-2.157-de-15-de-junho-de-2023-490440467\n",
      "https://www.in.gov.br//web/dou/-/resolucao-re-n-2.158-de-15-de-junho-de-2023-490445122\n",
      "https://www.in.gov.br//web/dou/-/resolucao-re-n-2.159-de-15-de-junho-de-2023-490428759\n",
      "https://www.in.gov.br//web/dou/-/resolucao-re-n-2.160-de-15-de-junho-de-2023-490445153\n",
      "https://www.in.gov.br//web/dou/-/resolucao-re-n-2.173-de-15-de-junho-de-2023-490440546\n",
      "https://www.in.gov.br//web/dou/-/resolucao-re-n-2.174-de-15-de-junho-de-2023-490445249\n",
      "https://www.in.gov.br//web/dou/-/resolucao-re-n-2.175-de-15-de-junho-de-2023-490445311\n",
      "https://www.in.gov.br//web/dou/-/resolucao-re-n-2.176-de-15-de-junho-de-2023-490440628\n",
      "https://www.in.gov.br//web/dou/-/resolucao-re-n-2.162-de-15-de-junho-de-2023-490440704\n",
      "https://www.in.gov.br//web/dou/-/resolucao-re-n-2.163-de-15-de-junho-de-2023-490428838\n",
      "https://www.in.gov.br//web/dou/-/resolucao-re-n-2.164-de-15-de-junho-de-2023-490428917\n",
      "https://www.in.gov.br//web/dou/-/resolucao-re-n-2.168-de-15-de-junho-de-2023-490445401\n",
      "https://www.in.gov.br//web/dou/-/resolucao-re-n-2.169-de-15-de-junho-de-2023-490428996\n",
      "https://www.in.gov.br//web/dou/-/resolucao-re-n-2.113-de-14-de-junho-de-2023-490445546\n",
      "https://www.in.gov.br//web/dou/-/resolucao-re-n-2.120-de-14-de-junho-de-2023-490429075\n",
      "https://www.in.gov.br//web/dou/-/resolucao-re-n-2.121-de-14-de-junho-de-2023-490445670\n",
      "https://www.in.gov.br//web/dou/-/resolucao-re-n-2.122-de-14-de-junho-de-2023-490440816\n",
      "https://www.in.gov.br//web/dou/-/resolucao-re-n-2.123-de-14-de-junho-de-2023-490429154\n",
      "https://www.in.gov.br//web/dou/-/resolucao-re-n-2.124-de-14-de-junho-de-2023-490429286\n",
      "https://www.in.gov.br//web/dou/-/resolucao-re-n-2.125-de-14-de-junho-de-2023-490445704\n",
      "https://www.in.gov.br//web/dou/-/resolucao-re-n-2.126-de-14-de-junho-de-2023-490440862\n",
      "https://www.in.gov.br//web/dou/-/resolucao-re-n-2.136-de-15-de-junho-de-2023-490429313\n",
      "https://www.in.gov.br//web/dou/-/resolucao-re-n-2.147-de-15-de-junho-de-2023-490429393\n",
      "https://www.in.gov.br//web/dou/-/resolucao-re-n-2.148-de-15-de-junho-de-2023-490429472\n",
      "https://www.in.gov.br//web/dou/-/resolucao-re-n-2.149-de-15-de-junho-de-2023-490445806\n",
      "https://www.in.gov.br//web/dou/-/resolucao-re-n-2.150-de-15-de-junho-de-2023-490440941\n",
      "https://www.in.gov.br//web/dou/-/resolucao-re-n-2.151-de-15-de-junho-de-2023-490429602\n",
      "https://www.in.gov.br//web/dou/-/resolucao-re-n-2.152-de-15-de-junho-de-2023-490429681\n",
      "https://www.in.gov.br//web/dou/-/resolucao-re-n-2.166-de-15-de-junho-de-2023-490441020\n",
      "https://www.in.gov.br//web/dou/-/resolucao-re-n-2.167-de-15-de-junho-de-2023-490429788\n",
      "https://www.in.gov.br//web/dou/-/resolucao-re-n-2.177-de-16-de-junho-de-2023-490429867\n",
      "https://www.in.gov.br//web/dou/-/resolucao-re-n-2.185-de-16-de-junho-de-2023-490441099\n",
      "https://www.in.gov.br//web/dou/-/resolucao-re-n-2.165-de-15-de-junho-de-2023-490429709\n",
      "https://www.in.gov.br//web/dou/-/resolucao-re-n-2.178-de-16-de-junho-de-2023-490441178\n",
      "https://www.in.gov.br//web/dou/-/resolucao-re-n-2.179-de-16-de-junho-de-2023-490445862\n",
      "https://www.in.gov.br//web/dou/-/resolucao-re-n-2.180-de-16-de-junho-de-2023-490430024\n",
      "https://www.in.gov.br//web/dou/-/resolucao-re-n-2.181-de-16-de-junho-de-2023-490432103\n",
      "https://www.in.gov.br//web/dou/-/resolucao-re-n-2.182-de-16-de-junho-de-2023-490441257\n",
      "https://www.in.gov.br//web/dou/-/resolucao-re-n-2.183-de-16-de-junho-de-2023-490441336\n",
      "https://www.in.gov.br//web/dou/-/resolucao-re-n-2.184-de-16-de-junho-de-2023-490432182\n",
      "https://www.in.gov.br//web/dou/-/resolucao-re-n-2.077-de-7-de-junho-de-2023-490441415\n",
      "https://www.in.gov.br//web/dou/-/resolucao-re-n-2.078-de-7-de-junho-de-2023-490441494\n",
      "https://www.in.gov.br//web/dou/-/resolucao-re-n-2.170-de-15-de-junho-de-2023-490441621\n",
      "https://www.in.gov.br//web/dou/-/resolucao-re-n-2.171-de-15-de-junho-de-2023-490445992\n",
      "https://www.in.gov.br//web/dou/-/resolucao-re-n-2.172-de-15-de-junho-de-2023-490441652\n",
      "https://www.in.gov.br//web/dou/-/resolucao-re-n-2.186-de-16-de-junho-de-2023-490446020\n",
      "https://www.in.gov.br//web/dou/-/resolucao-re-n-2.187-de-16-de-junho-de-2023-490432261\n",
      "https://www.in.gov.br//web/dou/-/resolucao-re-n-2.188-de-16-de-junho-de-2023-490446152\n",
      "https://www.in.gov.br//web/dou/-/resolucao-re-n-2.189-de-16-de-junho-de-2023-490441731\n"
     ]
    }
   ],
   "source": [
    "links = listar_publicacoes('19-06-2023')"
   ]
  },
  {
   "cell_type": "code",
   "execution_count": null,
   "id": "b8464eb4",
   "metadata": {},
   "outputs": [],
   "source": []
  }
 ],
 "metadata": {
  "kernelspec": {
   "display_name": "Python 3 (ipykernel)",
   "language": "python",
   "name": "python3"
  },
  "language_info": {
   "codemirror_mode": {
    "name": "ipython",
    "version": 3
   },
   "file_extension": ".py",
   "mimetype": "text/x-python",
   "name": "python",
   "nbconvert_exporter": "python",
   "pygments_lexer": "ipython3",
   "version": "3.10.9"
  }
 },
 "nbformat": 4,
 "nbformat_minor": 5
}
