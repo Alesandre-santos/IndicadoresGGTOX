{
 "cells": [
  {
   "cell_type": "markdown",
   "id": "5572c5d6",
   "metadata": {},
   "source": [
    "# Indicadores da GGTOX\n",
    "\n",
    "ESTE PROGRAMA IDENTIFICA O NÚMERO DE EXPEDIENTES TRAMITADOS POR SITUAÇÃO PARA A GGTOX \n",
    "PARA MEDIR A QUANTIDADE DE TRABALHO DEMANDADO, PRODUTIVIDADE DA ÁREA \n",
    "NUMERO DE ENTRADAS E FINALIZAÇÕES DE EXPEDIENTES POR ANO E MES \n",
    "ANALISA O TEMPO MÉDIO DE ANÁLISE DOS PROCESSOS CONSIDERANDO AS EXIGÊNCIAS FEITAS E O TEMPO DE FILA PARA ANÁLISE \n",
    "\n",
    "FONTES: \n",
    "1. RELATÓRIO SITUAÇÕES DE EXPEDIENTES DO DATAVISA-DV (SQLSERVER)\n",
    "2. TABELA 'DE PARA' CÓDIGOS DE ASSUNTOS - \n",
    "3. TABELA 'DE PARA' SITUAÇÃO DOS PROCESSOS \n",
    "4. CRITÉRIOS PARA FILA\n",
    " \n",
    "SAIDA: ARQUIVOS TXT PARA MONTAR A PUBLICAÇÃO NO SEI\n",
    " \n",
    "Versões - Atualizações\n",
    "\n",
    "1. Criado em 13/02/2023 \n",
    "\n",
    "\n",
    "\n",
    "\n",
    "Comparando SAS x Panda https://pandas.pydata.org/docs/getting_started/comparison/comparison_with_sas.html\n",
    "\n",
    "Leitura panda https://pandas.pydata.org/docs/reference/api/pandas.read_excel.html #https://stackoverflow.com/questions/37395881/pandas-read-in-txt-file-without-headers\n",
    " \n"
   ]
  },
  {
   "cell_type": "code",
   "execution_count": 3,
   "id": "9af16161",
   "metadata": {},
   "outputs": [],
   "source": [
    "#pip install pyodbc\n",
    "# importar bibliotecas\n",
    "import pandas as pd\n",
    "import numpy as np\n",
    "import io\n",
    "\n"
   ]
  },
  {
   "cell_type": "markdown",
   "id": "293bb504",
   "metadata": {},
   "source": [
    "TESTAR BASE IND_FINAL NO BI\n",
    "TRANSPOR \n",
    "GERAR BASE PARA MODELO"
   ]
  },
  {
   "cell_type": "markdown",
   "id": "bb9ef090",
   "metadata": {},
   "source": [
    "# 2. MODELANDO"
   ]
  },
  {
   "cell_type": "markdown",
   "id": "ca8f5277",
   "metadata": {},
   "source": [
    "## 2.1 ESTATISTICAS DESCRITIVAS"
   ]
  },
  {
   "cell_type": "code",
   "execution_count": 4,
   "id": "95ff7c17",
   "metadata": {},
   "outputs": [],
   "source": [
    "IND_FINAL   = pd.read_excel(r'C:\\Users\\alesa\\OneDrive - ANVISA - Agencia Nacional de Vigilancia Sanitaria\\000_ECD\\TCC\\Dados\\IND_FINAL.xlsx',\n",
    "                         header=0, sheet_name=\"Planilha1\")\n",
    "assuntos = pd.read_excel(r'C:\\Users\\alesa\\OneDrive - ANVISA - Agencia Nacional de Vigilancia Sanitaria\\GGTOX\\3.INDICADORES\\assuntos.xls',\n",
    "                         header=0, sheet_name=\"ASSUNTOS\")"
   ]
  },
  {
   "cell_type": "code",
   "execution_count": 5,
   "id": "b5f14641",
   "metadata": {},
   "outputs": [
    {
     "name": "stdout",
     "output_type": "stream",
     "text": [
      "<class 'pandas.core.frame.DataFrame'>\n",
      "Int64Index: 52109 entries, 0 to 100636\n",
      "Data columns (total 8 columns):\n",
      " #   Column          Non-Null Count  Dtype         \n",
      "---  ------          --------------  -----         \n",
      " 0   CO_ASSUNTO      52109 non-null  int64         \n",
      " 1   NU_EXPEDIENTE   52109 non-null  int64         \n",
      " 2   RECURSO         52109 non-null  int32         \n",
      " 3   CANCELADO       52109 non-null  int32         \n",
      " 4   DT_FINALIZACAO  52109 non-null  datetime64[ns]\n",
      " 5   DT_ENTRADA      52109 non-null  datetime64[ns]\n",
      " 6   CICLO_GGTOX     52109 non-null  object        \n",
      " 7   DIAS            52109 non-null  int64         \n",
      "dtypes: datetime64[ns](2), int32(2), int64(3), object(1)\n",
      "memory usage: 3.2+ MB\n"
     ]
    }
   ],
   "source": [
    "IND_FINAL_0 = IND_FINAL[[#'SAIDA_A',\n",
    "                       #'SAIDA_M',\n",
    "                       #'ENTRADA_A',\n",
    "                       #'ENTRADA_M',\n",
    "                       'CO_ASSUNTO',\n",
    "                       #'NU_PROCESSO',\n",
    "                       'NU_EXPEDIENTE',\n",
    "                       'RECURSO',\n",
    "                       'CANCELADO',\n",
    "                       'DT_FINALIZACAO',\n",
    "                       'DT_ENTRADA',\n",
    "                       #'DT_INICIO_SITUACAO',\n",
    "                       #'DT_FIM_SITUACAO',\n",
    "                       'CICLO_GGTOX',\n",
    "                       'DIAS',\n",
    "                       #'NU_CNPJ_EMPRESA',\n",
    "                       #'NO_RAZAO_SOCIAL_EMPRESA',\n",
    "                       #'NO_PRODUTO',\n",
    "                       #'TIPO_PUBLICACAO',\n",
    "                       #'DT_FIM_SITUACAO_LAG'\n",
    "                       ]]\n",
    "\n",
    "IND_FINAL_0 = pd.DataFrame(IND_FINAL_0[(IND_FINAL_0['CICLO_GGTOX'] == \"3.1.Analise\") |\n",
    "                               (IND_FINAL_0['CICLO_GGTOX'] == '6.Tempo_total')]) \n",
    "\n",
    "#df = pd.DataFrame(df[(df['TIPO_PUBLICACAO'] == \"1. Registro\")]) \n",
    "\n",
    "IND_FINAL_0['RECURSO'] = np.where((IND_FINAL_0['RECURSO'] >= 1), 1, 0)\n",
    "IND_FINAL_0['CANCELADO'] = np.where((IND_FINAL_0['CANCELADO'] >= 1), 1, 0)\n",
    "\n",
    "IND_FINAL_0.info()"
   ]
  },
  {
   "cell_type": "code",
   "execution_count": 6,
   "id": "8756f188",
   "metadata": {},
   "outputs": [
    {
     "name": "stdout",
     "output_type": "stream",
     "text": [
      "<class 'pandas.core.frame.DataFrame'>\n",
      "Int64Index: 22544 entries, 2220 to 32938\n",
      "Data columns (total 8 columns):\n",
      " #   Column          Non-Null Count  Dtype         \n",
      "---  ------          --------------  -----         \n",
      " 0   CO_ASSUNTO      22544 non-null  int64         \n",
      " 1   NU_EXPEDIENTE   22544 non-null  int64         \n",
      " 2   RECURSO         22544 non-null  int64         \n",
      " 3   CANCELADO       22544 non-null  int64         \n",
      " 4   DT_ENTRADA      22544 non-null  datetime64[ns]\n",
      " 5   DT_FINALIZACAO  22544 non-null  datetime64[ns]\n",
      " 6   ANALISE         8291 non-null   float64       \n",
      " 7   TOTAL           22544 non-null  float64       \n",
      "dtypes: datetime64[ns](2), float64(2), int64(4)\n",
      "memory usage: 1.5 MB\n"
     ]
    }
   ],
   "source": [
    "# Transpor os dados usando pivot_table\n",
    "df_transposed = IND_FINAL_0.pivot_table(index=['CO_ASSUNTO', 'NU_EXPEDIENTE', 'RECURSO','CANCELADO',\n",
    "                                     'DT_ENTRADA','DT_FINALIZACAO'],\n",
    "                               columns='CICLO_GGTOX',\n",
    "                               values='DIAS').reset_index()\n",
    "\n",
    "# Renomear as colunas resultantes\n",
    "df_transposed.columns.name = None\n",
    "\n",
    "# Renomear as colunas adicionando um prefixo\n",
    "df_transposed = df_transposed.rename(columns=lambda x: '' + str(x))\n",
    "\n",
    "df_transposed.rename(columns={'3.1.Analise': 'ANALISE'}, inplace=True)\n",
    "df_transposed.rename(columns={'6.Tempo_total': 'TOTAL'}, inplace=True)\n",
    "\n",
    "assunto_tipo = assuntos[['CO_ASSUNTO','TIPO_PUBLICACAO']]\n",
    "                       \n",
    "df_transposed = df_transposed.merge(assunto_tipo, on=\"CO_ASSUNTO\", how=\"left\")\n",
    "df_transposed = pd.DataFrame(df_transposed[(df_transposed['TIPO_PUBLICACAO'] == \"1. Registro\")]) \n",
    "df_transposed = df_transposed.drop(['TIPO_PUBLICACAO'], axis=1)\n",
    "df_transposed.head()\n",
    "df_transposed.info()\n"
   ]
  },
  {
   "cell_type": "code",
   "execution_count": 7,
   "id": "5cfca9d8",
   "metadata": {},
   "outputs": [
    {
     "data": {
      "text/plain": [
       "CO_ASSUNTO            0\n",
       "NU_EXPEDIENTE         0\n",
       "RECURSO               0\n",
       "CANCELADO             0\n",
       "DT_ENTRADA            0\n",
       "DT_FINALIZACAO        0\n",
       "ANALISE           14253\n",
       "TOTAL                 0\n",
       "dtype: int64"
      ]
     },
     "execution_count": 7,
     "metadata": {},
     "output_type": "execute_result"
    }
   ],
   "source": [
    "df_transposed.isnull().sum()"
   ]
  },
  {
   "cell_type": "code",
   "execution_count": 8,
   "id": "354c8d08",
   "metadata": {},
   "outputs": [],
   "source": [
    "import matplotlib.pyplot as plt\n",
    "import seaborn as sns"
   ]
  },
  {
   "cell_type": "code",
   "execution_count": 9,
   "id": "d1c0a15a",
   "metadata": {},
   "outputs": [
    {
     "data": {
      "image/png": "[encoded data removed]",
      "text/plain": [
       "<Figure size 640x480 with 1 Axes>"
      ]
     },
     "metadata": {},
     "output_type": "display_data"
    }
   ],
   "source": [
    "#Boxplot por categoria\n",
    "sns.boxplot(x=\"CO_ASSUNTO\", \n",
    "            y=\"TOTAL\",\n",
    "            data=df_transposed)\n",
    "plt.show()"
   ]
  },
  {
   "cell_type": "code",
   "execution_count": 10,
   "id": "1ca25fc7",
   "metadata": {},
   "outputs": [
    {
     "ename": "NameError",
     "evalue": "name 'base_1' is not defined",
     "output_type": "error",
     "traceback": [
      "\u001b[1;31m---------------------------------------------------------------------------\u001b[0m",
      "\u001b[1;31mNameError\u001b[0m                                 Traceback (most recent call last)",
      "\u001b[1;32m~\\AppData\\Local\\Temp\\ipykernel_8368\\2686763117.py\u001b[0m in \u001b[0;36m<module>\u001b[1;34m\u001b[0m\n\u001b[0;32m      2\u001b[0m \u001b[1;33m\u001b[0m\u001b[0m\n\u001b[0;32m      3\u001b[0m \u001b[1;31m#gráfico de barras\u001b[0m\u001b[1;33m\u001b[0m\u001b[1;33m\u001b[0m\u001b[0m\n\u001b[1;32m----> 4\u001b[1;33m \u001b[0mbase_1\u001b[0m\u001b[1;33m[\u001b[0m\u001b[1;34m'GENERO'\u001b[0m\u001b[1;33m]\u001b[0m\u001b[1;33m.\u001b[0m\u001b[0mvalue_counts\u001b[0m\u001b[1;33m(\u001b[0m\u001b[1;33m)\u001b[0m\u001b[1;33m.\u001b[0m\u001b[0mplot\u001b[0m\u001b[1;33m(\u001b[0m\u001b[0mkind\u001b[0m\u001b[1;33m=\u001b[0m\u001b[1;34m\"bar\"\u001b[0m\u001b[1;33m)\u001b[0m\u001b[1;33m\u001b[0m\u001b[1;33m\u001b[0m\u001b[0m\n\u001b[0m\u001b[0;32m      5\u001b[0m \u001b[1;33m\u001b[0m\u001b[0m\n\u001b[0;32m      6\u001b[0m \u001b[1;31m#Gráfico de Pizza\u001b[0m\u001b[1;33m\u001b[0m\u001b[1;33m\u001b[0m\u001b[0m\n",
      "\u001b[1;31mNameError\u001b[0m: name 'base_1' is not defined"
     ]
    }
   ],
   "source": [
    "df_transposed['RECURSO'].value_counts()\n",
    "\n",
    "#gráfico de barras\n",
    "base_1['GENERO'].value_counts().plot(kind=\"bar\")\n",
    "\n",
    "#Gráfico de Pizza\n",
    "base_1['GENERO'].value_counts().plot(kind=\"pie\", autopct=\"%1.1f%%\")\n",
    "plt.title(\"Contagem por Gênero\")\n",
    "plt.xlabel(\"Gênero\")\n",
    "plt.xticks(rotation=0)\n",
    "plt.ylabel(\"Contagem\")\n",
    "plt.show()\n",
    "\n",
    "#resumo das variáveis\n",
    "df_transposed.describe()\n",
    "\n",
    "#resumo por categoria\n",
    "base_1[['GENERO','IDADE']].groupby(\"GENERO\").describe()\n",
    "\n",
    "#resumo de todas as variáveis numéricas por categoria\n",
    "base_1.groupby(\"RACA_COR\").mean()\n",
    "\n",
    "#histograma\n",
    "df_transposed['TOTAL'].plot.hist()\n",
    "\n",
    "#boxlpot\n",
    "df_transposed[['TOTAL']].boxplot()\n",
    "\n",
    "#Boxplot por categoria\n",
    "sns.boxplot(x=\"RACA_COR\", \n",
    "            y=\"IDADE\",\n",
    "            hue=\"GENERO\",\n",
    "            data=base_1)\n",
    "plt.show()\n",
    "\n",
    "#Gráfico de dispersão\n",
    "sns.distplot(df_transposed['TOTAL'])\n",
    "\n",
    "#Gráfico de dispersao por assunto ou data finalização\n",
    "sns.scatterplot(x=\"CO_ASSUNTO\", y=\"TOTAL\", \n",
    "                data=df_transposed)\n",
    "plt.title(\"Gráfico de Dispersão Valor Total por Dias de Permanência\")\n",
    "plt.show()"
   ]
  },
  {
   "cell_type": "code",
   "execution_count": null,
   "id": "76fe88e7",
   "metadata": {},
   "outputs": [],
   "source": [
    "df_transposed['TOTAL'].plot.hist()"
   ]
  },
  {
   "cell_type": "markdown",
   "id": "1cd91ea8",
   "metadata": {},
   "source": [
    "## Detecção de anomalias - Outliers"
   ]
  },
  {
   "cell_type": "code",
   "execution_count": null,
   "id": "3d13e3cf",
   "metadata": {},
   "outputs": [],
   "source": [
    "#outliers semana 12 - detecção de anomalias\n",
    "\n",
    "#importar bibliotecas\n",
    "from sklearn.ensemble import IsolationForest"
   ]
  },
  {
   "cell_type": "code",
   "execution_count": null,
   "id": "beb2443c",
   "metadata": {},
   "outputs": [],
   "source": [
    "df_transposed = pd.DataFrame(df_transposed[(df_transposed['CO_ASSUNTO'] == 5004)]) \n",
    "\n",
    "#Definir modelo de Isolation Forest - SOMENTE TOTAL\n",
    "modelo=IsolationForest(n_estimators=100,max_samples='auto',random_state=0)\n",
    "#Visualizar parâmetros do modelo\n",
    "print(modelo.get_params())\n",
    "\n",
    "variaveis_anomalia = ['TOTAL']\n",
    "\n",
    "#Ajustar modelo multivariado\n",
    "modelo.fit(df_transposed[variaveis_anomalia])\n",
    "\n",
    "#Criar coluna chamada score\n",
    "df_transposed['scores'] = modelo.decision_function(df_transposed[variaveis_anomalia])\n",
    "\n",
    "df_transposed.info()"
   ]
  },
  {
   "cell_type": "code",
   "execution_count": null,
   "id": "4df7308e",
   "metadata": {},
   "outputs": [],
   "source": [
    "#Definir modelo de Isolation Forest - CO_ASSUNTO e TOTAL\n",
    "modelo=IsolationForest(n_estimators=100,max_samples='auto',random_state=0)\n",
    "#Visualizar parâmetros do modelo\n",
    "print(modelo.get_params())\n",
    "\n",
    "colunas_analise = ['CO_ASSUNTO', 'TOTAL']\n",
    "\n",
    "#Ajustar modelo multivariado\n",
    "modelo.fit(df_transposed[colunas_analise])\n",
    "\n",
    "#Criar coluna chamada score\n",
    "df_transposed['scores'] = modelo.decision_function(df_transposed[colunas_analise])\n",
    "\n",
    "df_transposed.head()\n",
    "\n"
   ]
  },
  {
   "cell_type": "code",
   "execution_count": null,
   "id": "858feaa9",
   "metadata": {},
   "outputs": [],
   "source": [
    "#visualizar as anomalias\n",
    "sns.pairplot(df_transposed,vars=df_transposed[variaveis_anomalia],hue='anomalia')\n",
    "plt.show()"
   ]
  },
  {
   "cell_type": "code",
   "execution_count": null,
   "id": "a1b62b9a",
   "metadata": {},
   "outputs": [],
   "source": [
    "df_transposed.to_excel('df_transposed.xlsx', sheet_name='Planilha1', index=False)"
   ]
  },
  {
   "cell_type": "code",
   "execution_count": null,
   "id": "75c55885",
   "metadata": {},
   "outputs": [],
   "source": []
  },
  {
   "cell_type": "code",
   "execution_count": 11,
   "id": "914bc5de",
   "metadata": {},
   "outputs": [
    {
     "name": "stdout",
     "output_type": "stream",
     "text": [
      "<class 'pandas.core.frame.DataFrame'>\n",
      "Int64Index: 21936 entries, 2220 to 32938\n",
      "Data columns (total 9 columns):\n",
      " #   Column          Non-Null Count  Dtype         \n",
      "---  ------          --------------  -----         \n",
      " 0   CO_ASSUNTO      21936 non-null  int64         \n",
      " 1   NU_EXPEDIENTE   21936 non-null  int64         \n",
      " 2   RECURSO         21936 non-null  int64         \n",
      " 3   CANCELADO       21936 non-null  int64         \n",
      " 4   DT_ENTRADA      21936 non-null  datetime64[ns]\n",
      " 5   DT_FINALIZACAO  21936 non-null  datetime64[ns]\n",
      " 6   ANALISE         8240 non-null   float64       \n",
      " 7   TOTAL           21936 non-null  float64       \n",
      " 8   CO_ASSUNTO_T    21936 non-null  object        \n",
      "dtypes: datetime64[ns](2), float64(2), int64(4), object(1)\n",
      "memory usage: 1.7+ MB\n"
     ]
    }
   ],
   "source": [
    "#tira na mão...com experiencia propria ajudado pelo \n",
    "df = pd.DataFrame(df_transposed[((df_transposed['CO_ASSUNTO'] == 5004) & (df_transposed['TOTAL'] >2)) |\n",
    "                                   ((df_transposed['CO_ASSUNTO'] != 5004) & (df_transposed['TOTAL'] >29))])\n",
    "df['CO_ASSUNTO_T'] = df['CO_ASSUNTO'].astype(str)\n",
    "\n",
    "df.info()"
   ]
  },
  {
   "cell_type": "code",
   "execution_count": 12,
   "id": "be14197a",
   "metadata": {},
   "outputs": [],
   "source": [
    "#TESTE.to_excel('TESTE.xlsx', sheet_name='Planilha1', index=False)\n",
    "df.to_excel('df.xlsx', sheet_name='Planilha1', index=False)"
   ]
  },
  {
   "cell_type": "markdown",
   "id": "bf246ebf",
   "metadata": {},
   "source": [
    "Gerando arquivos txt para publicacao"
   ]
  },
  {
   "cell_type": "markdown",
   "id": "f23f120f",
   "metadata": {},
   "source": [
    "1. Trabalhar dados: renomear colunas, transformar recursos cancelados. Missing. Encoding\n",
    "2. Estatística exploratória\n",
    "3. Modelar\n",
    "\n",
    "Importar pdf direto..."
   ]
  }
 ],
 "metadata": {
  "kernelspec": {
   "display_name": "Python 3 (ipykernel)",
   "language": "python",
   "name": "python3"
  },
  "language_info": {
   "codemirror_mode": {
    "name": "ipython",
    "version": 3
   },
   "file_extension": ".py",
   "mimetype": "text/x-python",
   "name": "python",
   "nbconvert_exporter": "python",
   "pygments_lexer": "ipython3",
   "version": "3.9.13"
  }
 },
 "nbformat": 4,
 "nbformat_minor": 5
}
